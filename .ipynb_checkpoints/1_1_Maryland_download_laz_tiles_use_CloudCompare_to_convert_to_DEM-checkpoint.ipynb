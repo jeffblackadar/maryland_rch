{
 "cells": [
  {
   "cell_type": "code",
   "execution_count": null,
   "metadata": {},
   "outputs": [],
   "source": []
  },
  {
   "cell_type": "code",
   "execution_count": null,
   "metadata": {},
   "outputs": [],
   "source": []
  },
  {
   "cell_type": "markdown",
   "metadata": {},
   "source": [
    "## Convert Laz to Raster with CloudCompare"
   ]
  },
  {
   "cell_type": "code",
   "execution_count": 3,
   "metadata": {},
   "outputs": [
    {
     "name": "stdout",
     "output_type": "stream",
     "text": [
      "!\"E:\\Program Files\\CloudCompare\\cloudcompare\" -SILENT -O E:\\a_new_orgs\\carleton\\hist5706-maryland\\lidar_files\\reprojected\\laz_utm_0-49\\20120131_17SQD2093_utm.laz -SET_ACTIVE_SF 8 -FILTER_SF 1.1 2.1 -RASTERIZE -GRID_STEP 1 -EMPTY_FILL INTERP -OUTPUT_RASTER_Z \n",
      "!\"E:\\Program Files\\CloudCompare\\cloudcompare\" -SILENT -O E:\\a_new_orgs\\carleton\\hist5706-maryland\\lidar_files\\reprojected\\laz_utm_0-49\\20120131_17SQD2384_utm.laz -SET_ACTIVE_SF 8 -FILTER_SF 1.1 2.1 -RASTERIZE -GRID_STEP 1 -EMPTY_FILL INTERP -OUTPUT_RASTER_Z \n",
      "!\"E:\\Program Files\\CloudCompare\\cloudcompare\" -SILENT -O E:\\a_new_orgs\\carleton\\hist5706-maryland\\lidar_files\\reprojected\\laz_utm_0-49\\20120131_17SQD2492_utm.laz -SET_ACTIVE_SF 8 -FILTER_SF 1.1 2.1 -RASTERIZE -GRID_STEP 1 -EMPTY_FILL INTERP -OUTPUT_RASTER_Z \n",
      "!\"E:\\Program Files\\CloudCompare\\cloudcompare\" -SILENT -O E:\\a_new_orgs\\carleton\\hist5706-maryland\\lidar_files\\reprojected\\laz_utm_0-49\\20120131_17SQD2793_utm.laz -SET_ACTIVE_SF 8 -FILTER_SF 1.1 2.1 -RASTERIZE -GRID_STEP 1 -EMPTY_FILL INTERP -OUTPUT_RASTER_Z \n",
      "!\"E:\\Program Files\\CloudCompare\\cloudcompare\" -SILENT -O E:\\a_new_orgs\\carleton\\hist5706-maryland\\lidar_files\\reprojected\\laz_utm_0-49\\20120131_17SQD2795_utm.laz -SET_ACTIVE_SF 8 -FILTER_SF 1.1 2.1 -RASTERIZE -GRID_STEP 1 -EMPTY_FILL INTERP -OUTPUT_RASTER_Z \n",
      "!\"E:\\Program Files\\CloudCompare\\cloudcompare\" -SILENT -O E:\\a_new_orgs\\carleton\\hist5706-maryland\\lidar_files\\reprojected\\laz_utm_0-49\\20120203_17SPD9795_utm.laz -SET_ACTIVE_SF 8 -FILTER_SF 1.1 2.1 -RASTERIZE -GRID_STEP 1 -EMPTY_FILL INTERP -OUTPUT_RASTER_Z \n",
      "!\"E:\\Program Files\\CloudCompare\\cloudcompare\" -SILENT -O E:\\a_new_orgs\\carleton\\hist5706-maryland\\lidar_files\\reprojected\\laz_utm_0-49\\20120203_17SPE9901_utm.laz -SET_ACTIVE_SF 8 -FILTER_SF 1.1 2.1 -RASTERIZE -GRID_STEP 1 -EMPTY_FILL INTERP -OUTPUT_RASTER_Z \n",
      "!\"E:\\Program Files\\CloudCompare\\cloudcompare\" -SILENT -O E:\\a_new_orgs\\carleton\\hist5706-maryland\\lidar_files\\reprojected\\laz_utm_0-49\\20120203_17SQD0095_utm.laz -SET_ACTIVE_SF 8 -FILTER_SF 1.1 2.1 -RASTERIZE -GRID_STEP 1 -EMPTY_FILL INTERP -OUTPUT_RASTER_Z \n",
      "!\"E:\\Program Files\\CloudCompare\\cloudcompare\" -SILENT -O E:\\a_new_orgs\\carleton\\hist5706-maryland\\lidar_files\\reprojected\\laz_utm_0-49\\20120203_17SQD0096_utm.laz -SET_ACTIVE_SF 8 -FILTER_SF 1.1 2.1 -RASTERIZE -GRID_STEP 1 -EMPTY_FILL INTERP -OUTPUT_RASTER_Z \n",
      "!\"E:\\Program Files\\CloudCompare\\cloudcompare\" -SILENT -O E:\\a_new_orgs\\carleton\\hist5706-maryland\\lidar_files\\reprojected\\laz_utm_0-49\\20120203_17SQD0398_utm.laz -SET_ACTIVE_SF 8 -FILTER_SF 1.1 2.1 -RASTERIZE -GRID_STEP 1 -EMPTY_FILL INTERP -OUTPUT_RASTER_Z \n",
      "!\"E:\\Program Files\\CloudCompare\\cloudcompare\" -SILENT -O E:\\a_new_orgs\\carleton\\hist5706-maryland\\lidar_files\\reprojected\\laz_utm_0-49\\20120203_17SQD0399_utm.laz -SET_ACTIVE_SF 8 -FILTER_SF 1.1 2.1 -RASTERIZE -GRID_STEP 1 -EMPTY_FILL INTERP -OUTPUT_RASTER_Z \n",
      "!\"E:\\Program Files\\CloudCompare\\cloudcompare\" -SILENT -O E:\\a_new_orgs\\carleton\\hist5706-maryland\\lidar_files\\reprojected\\laz_utm_0-49\\20120203_17SQD0596_utm.laz -SET_ACTIVE_SF 8 -FILTER_SF 1.1 2.1 -RASTERIZE -GRID_STEP 1 -EMPTY_FILL INTERP -OUTPUT_RASTER_Z \n",
      "!\"E:\\Program Files\\CloudCompare\\cloudcompare\" -SILENT -O E:\\a_new_orgs\\carleton\\hist5706-maryland\\lidar_files\\reprojected\\laz_utm_0-49\\20120203_17SQD0598_utm.laz -SET_ACTIVE_SF 8 -FILTER_SF 1.1 2.1 -RASTERIZE -GRID_STEP 1 -EMPTY_FILL INTERP -OUTPUT_RASTER_Z \n",
      "!\"E:\\Program Files\\CloudCompare\\cloudcompare\" -SILENT -O E:\\a_new_orgs\\carleton\\hist5706-maryland\\lidar_files\\reprojected\\laz_utm_0-49\\20120203_17SQD0898_utm.laz -SET_ACTIVE_SF 8 -FILTER_SF 1.1 2.1 -RASTERIZE -GRID_STEP 1 -EMPTY_FILL INTERP -OUTPUT_RASTER_Z \n",
      "!\"E:\\Program Files\\CloudCompare\\cloudcompare\" -SILENT -O E:\\a_new_orgs\\carleton\\hist5706-maryland\\lidar_files\\reprojected\\laz_utm_0-49\\20120203_17SQD0899_utm.laz -SET_ACTIVE_SF 8 -FILTER_SF 1.1 2.1 -RASTERIZE -GRID_STEP 1 -EMPTY_FILL INTERP -OUTPUT_RASTER_Z \n",
      "!\"E:\\Program Files\\CloudCompare\\cloudcompare\" -SILENT -O E:\\a_new_orgs\\carleton\\hist5706-maryland\\lidar_files\\reprojected\\laz_utm_0-49\\20120203_17SQD0996_utm.laz -SET_ACTIVE_SF 8 -FILTER_SF 1.1 2.1 -RASTERIZE -GRID_STEP 1 -EMPTY_FILL INTERP -OUTPUT_RASTER_Z \n",
      "!\"E:\\Program Files\\CloudCompare\\cloudcompare\" -SILENT -O E:\\a_new_orgs\\carleton\\hist5706-maryland\\lidar_files\\reprojected\\laz_utm_0-49\\20120203_17SQD0998_utm.laz -SET_ACTIVE_SF 8 -FILTER_SF 1.1 2.1 -RASTERIZE -GRID_STEP 1 -EMPTY_FILL INTERP -OUTPUT_RASTER_Z \n",
      "!\"E:\\Program Files\\CloudCompare\\cloudcompare\" -SILENT -O E:\\a_new_orgs\\carleton\\hist5706-maryland\\lidar_files\\reprojected\\laz_utm_0-49\\20120203_17SQD0999_utm.laz -SET_ACTIVE_SF 8 -FILTER_SF 1.1 2.1 -RASTERIZE -GRID_STEP 1 -EMPTY_FILL INTERP -OUTPUT_RASTER_Z \n",
      "!\"E:\\Program Files\\CloudCompare\\cloudcompare\" -SILENT -O E:\\a_new_orgs\\carleton\\hist5706-maryland\\lidar_files\\reprojected\\laz_utm_0-49\\20120203_17SQD1298_utm.laz -SET_ACTIVE_SF 8 -FILTER_SF 1.1 2.1 -RASTERIZE -GRID_STEP 1 -EMPTY_FILL INTERP -OUTPUT_RASTER_Z \n",
      "!\"E:\\Program Files\\CloudCompare\\cloudcompare\" -SILENT -O E:\\a_new_orgs\\carleton\\hist5706-maryland\\lidar_files\\reprojected\\laz_utm_0-49\\20120203_17SQD1299_utm.laz -SET_ACTIVE_SF 8 -FILTER_SF 1.1 2.1 -RASTERIZE -GRID_STEP 1 -EMPTY_FILL INTERP -OUTPUT_RASTER_Z \n",
      "!\"E:\\Program Files\\CloudCompare\\cloudcompare\" -SILENT -O E:\\a_new_orgs\\carleton\\hist5706-maryland\\lidar_files\\reprojected\\laz_utm_0-49\\20120203_17SQD1496_utm.laz -SET_ACTIVE_SF 8 -FILTER_SF 1.1 2.1 -RASTERIZE -GRID_STEP 1 -EMPTY_FILL INTERP -OUTPUT_RASTER_Z \n",
      "!\"E:\\Program Files\\CloudCompare\\cloudcompare\" -SILENT -O E:\\a_new_orgs\\carleton\\hist5706-maryland\\lidar_files\\reprojected\\laz_utm_0-49\\20120203_17SQD1498_utm.laz -SET_ACTIVE_SF 8 -FILTER_SF 1.1 2.1 -RASTERIZE -GRID_STEP 1 -EMPTY_FILL INTERP -OUTPUT_RASTER_Z \n",
      "!\"E:\\Program Files\\CloudCompare\\cloudcompare\" -SILENT -O E:\\a_new_orgs\\carleton\\hist5706-maryland\\lidar_files\\reprojected\\laz_utm_0-49\\20120203_17SQD1499_utm.laz -SET_ACTIVE_SF 8 -FILTER_SF 1.1 2.1 -RASTERIZE -GRID_STEP 1 -EMPTY_FILL INTERP -OUTPUT_RASTER_Z \n",
      "!\"E:\\Program Files\\CloudCompare\\cloudcompare\" -SILENT -O E:\\a_new_orgs\\carleton\\hist5706-maryland\\lidar_files\\reprojected\\laz_utm_0-49\\20120203_17SQD1596_utm.laz -SET_ACTIVE_SF 8 -FILTER_SF 1.1 2.1 -RASTERIZE -GRID_STEP 1 -EMPTY_FILL INTERP -OUTPUT_RASTER_Z \n",
      "!\"E:\\Program Files\\CloudCompare\\cloudcompare\" -SILENT -O E:\\a_new_orgs\\carleton\\hist5706-maryland\\lidar_files\\reprojected\\laz_utm_0-49\\20120203_17SQD1799_utm.laz -SET_ACTIVE_SF 8 -FILTER_SF 1.1 2.1 -RASTERIZE -GRID_STEP 1 -EMPTY_FILL INTERP -OUTPUT_RASTER_Z \n",
      "!\"E:\\Program Files\\CloudCompare\\cloudcompare\" -SILENT -O E:\\a_new_orgs\\carleton\\hist5706-maryland\\lidar_files\\reprojected\\laz_utm_0-49\\20120203_17SQD1896_utm.laz -SET_ACTIVE_SF 8 -FILTER_SF 1.1 2.1 -RASTERIZE -GRID_STEP 1 -EMPTY_FILL INTERP -OUTPUT_RASTER_Z \n",
      "!\"E:\\Program Files\\CloudCompare\\cloudcompare\" -SILENT -O E:\\a_new_orgs\\carleton\\hist5706-maryland\\lidar_files\\reprojected\\laz_utm_0-49\\20120203_17SQD1898_utm.laz -SET_ACTIVE_SF 8 -FILTER_SF 1.1 2.1 -RASTERIZE -GRID_STEP 1 -EMPTY_FILL INTERP -OUTPUT_RASTER_Z \n",
      "!\"E:\\Program Files\\CloudCompare\\cloudcompare\" -SILENT -O E:\\a_new_orgs\\carleton\\hist5706-maryland\\lidar_files\\reprojected\\laz_utm_0-49\\20120203_17SQD1899_utm.laz -SET_ACTIVE_SF 8 -FILTER_SF 1.1 2.1 -RASTERIZE -GRID_STEP 1 -EMPTY_FILL INTERP -OUTPUT_RASTER_Z \n",
      "!\"E:\\Program Files\\CloudCompare\\cloudcompare\" -SILENT -O E:\\a_new_orgs\\carleton\\hist5706-maryland\\lidar_files\\reprojected\\laz_utm_0-49\\20120203_17SQD2096_utm.laz -SET_ACTIVE_SF 8 -FILTER_SF 1.1 2.1 -RASTERIZE -GRID_STEP 1 -EMPTY_FILL INTERP -OUTPUT_RASTER_Z \n",
      "!\"E:\\Program Files\\CloudCompare\\cloudcompare\" -SILENT -O E:\\a_new_orgs\\carleton\\hist5706-maryland\\lidar_files\\reprojected\\laz_utm_0-49\\20120203_17SQD2098_utm.laz -SET_ACTIVE_SF 8 -FILTER_SF 1.1 2.1 -RASTERIZE -GRID_STEP 1 -EMPTY_FILL INTERP -OUTPUT_RASTER_Z \n",
      "!\"E:\\Program Files\\CloudCompare\\cloudcompare\" -SILENT -O E:\\a_new_orgs\\carleton\\hist5706-maryland\\lidar_files\\reprojected\\laz_utm_0-49\\20120203_17SQD2099_utm.laz -SET_ACTIVE_SF 8 -FILTER_SF 1.1 2.1 -RASTERIZE -GRID_STEP 1 -EMPTY_FILL INTERP -OUTPUT_RASTER_Z \n",
      "!\"E:\\Program Files\\CloudCompare\\cloudcompare\" -SILENT -O E:\\a_new_orgs\\carleton\\hist5706-maryland\\lidar_files\\reprojected\\laz_utm_0-49\\20120203_17SQD2196_utm.laz -SET_ACTIVE_SF 8 -FILTER_SF 1.1 2.1 -RASTERIZE -GRID_STEP 1 -EMPTY_FILL INTERP -OUTPUT_RASTER_Z \n"
     ]
    },
    {
     "name": "stdout",
     "output_type": "stream",
     "text": [
      "!\"E:\\Program Files\\CloudCompare\\cloudcompare\" -SILENT -O E:\\a_new_orgs\\carleton\\hist5706-maryland\\lidar_files\\reprojected\\laz_utm_0-49\\20120203_17SQD2198_utm.laz -SET_ACTIVE_SF 8 -FILTER_SF 1.1 2.1 -RASTERIZE -GRID_STEP 1 -EMPTY_FILL INTERP -OUTPUT_RASTER_Z \n",
      "!\"E:\\Program Files\\CloudCompare\\cloudcompare\" -SILENT -O E:\\a_new_orgs\\carleton\\hist5706-maryland\\lidar_files\\reprojected\\laz_utm_0-49\\20120203_17SQD2199_utm.laz -SET_ACTIVE_SF 8 -FILTER_SF 1.1 2.1 -RASTERIZE -GRID_STEP 1 -EMPTY_FILL INTERP -OUTPUT_RASTER_Z \n",
      "!\"E:\\Program Files\\CloudCompare\\cloudcompare\" -SILENT -O E:\\a_new_orgs\\carleton\\hist5706-maryland\\lidar_files\\reprojected\\laz_utm_0-49\\20120203_17SQD2396_utm.laz -SET_ACTIVE_SF 8 -FILTER_SF 1.1 2.1 -RASTERIZE -GRID_STEP 1 -EMPTY_FILL INTERP -OUTPUT_RASTER_Z \n",
      "!\"E:\\Program Files\\CloudCompare\\cloudcompare\" -SILENT -O E:\\a_new_orgs\\carleton\\hist5706-maryland\\lidar_files\\reprojected\\laz_utm_0-49\\20120203_17SQD2398_utm.laz -SET_ACTIVE_SF 8 -FILTER_SF 1.1 2.1 -RASTERIZE -GRID_STEP 1 -EMPTY_FILL INTERP -OUTPUT_RASTER_Z \n",
      "!\"E:\\Program Files\\CloudCompare\\cloudcompare\" -SILENT -O E:\\a_new_orgs\\carleton\\hist5706-maryland\\lidar_files\\reprojected\\laz_utm_0-49\\20120203_17SQD2399_utm.laz -SET_ACTIVE_SF 8 -FILTER_SF 1.1 2.1 -RASTERIZE -GRID_STEP 1 -EMPTY_FILL INTERP -OUTPUT_RASTER_Z \n",
      "!\"E:\\Program Files\\CloudCompare\\cloudcompare\" -SILENT -O E:\\a_new_orgs\\carleton\\hist5706-maryland\\lidar_files\\reprojected\\laz_utm_0-49\\20120203_17SQD2696_utm.laz -SET_ACTIVE_SF 8 -FILTER_SF 1.1 2.1 -RASTERIZE -GRID_STEP 1 -EMPTY_FILL INTERP -OUTPUT_RASTER_Z \n",
      "!\"E:\\Program Files\\CloudCompare\\cloudcompare\" -SILENT -O E:\\a_new_orgs\\carleton\\hist5706-maryland\\lidar_files\\reprojected\\laz_utm_0-49\\20120203_17SQD2698_utm.laz -SET_ACTIVE_SF 8 -FILTER_SF 1.1 2.1 -RASTERIZE -GRID_STEP 1 -EMPTY_FILL INTERP -OUTPUT_RASTER_Z \n",
      "!\"E:\\Program Files\\CloudCompare\\cloudcompare\" -SILENT -O E:\\a_new_orgs\\carleton\\hist5706-maryland\\lidar_files\\reprojected\\laz_utm_0-49\\20120203_17SQD2699_utm.laz -SET_ACTIVE_SF 8 -FILTER_SF 1.1 2.1 -RASTERIZE -GRID_STEP 1 -EMPTY_FILL INTERP -OUTPUT_RASTER_Z \n",
      "!\"E:\\Program Files\\CloudCompare\\cloudcompare\" -SILENT -O E:\\a_new_orgs\\carleton\\hist5706-maryland\\lidar_files\\reprojected\\laz_utm_0-49\\20120203_17SQD2796_utm.laz -SET_ACTIVE_SF 8 -FILTER_SF 1.1 2.1 -RASTERIZE -GRID_STEP 1 -EMPTY_FILL INTERP -OUTPUT_RASTER_Z \n",
      "!\"E:\\Program Files\\CloudCompare\\cloudcompare\" -SILENT -O E:\\a_new_orgs\\carleton\\hist5706-maryland\\lidar_files\\reprojected\\laz_utm_0-49\\20120203_17SQD2798_utm.laz -SET_ACTIVE_SF 8 -FILTER_SF 1.1 2.1 -RASTERIZE -GRID_STEP 1 -EMPTY_FILL INTERP -OUTPUT_RASTER_Z \n",
      "!\"E:\\Program Files\\CloudCompare\\cloudcompare\" -SILENT -O E:\\a_new_orgs\\carleton\\hist5706-maryland\\lidar_files\\reprojected\\laz_utm_0-49\\20120203_17SQD2799_utm.laz -SET_ACTIVE_SF 8 -FILTER_SF 1.1 2.1 -RASTERIZE -GRID_STEP 1 -EMPTY_FILL INTERP -OUTPUT_RASTER_Z \n",
      "!\"E:\\Program Files\\CloudCompare\\cloudcompare\" -SILENT -O E:\\a_new_orgs\\carleton\\hist5706-maryland\\lidar_files\\reprojected\\laz_utm_0-49\\20120203_17SQE0201_utm.laz -SET_ACTIVE_SF 8 -FILTER_SF 1.1 2.1 -RASTERIZE -GRID_STEP 1 -EMPTY_FILL INTERP -OUTPUT_RASTER_Z \n",
      "!\"E:\\Program Files\\CloudCompare\\cloudcompare\" -SILENT -O E:\\a_new_orgs\\carleton\\hist5706-maryland\\lidar_files\\reprojected\\laz_utm_0-49\\20120203_17SQE0301_utm.laz -SET_ACTIVE_SF 8 -FILTER_SF 1.1 2.1 -RASTERIZE -GRID_STEP 1 -EMPTY_FILL INTERP -OUTPUT_RASTER_Z \n",
      "!\"E:\\Program Files\\CloudCompare\\cloudcompare\" -SILENT -O E:\\a_new_orgs\\carleton\\hist5706-maryland\\lidar_files\\reprojected\\laz_utm_0-49\\20120203_17SQE0501_utm.laz -SET_ACTIVE_SF 8 -FILTER_SF 1.1 2.1 -RASTERIZE -GRID_STEP 1 -EMPTY_FILL INTERP -OUTPUT_RASTER_Z \n",
      "!\"E:\\Program Files\\CloudCompare\\cloudcompare\" -SILENT -O E:\\a_new_orgs\\carleton\\hist5706-maryland\\lidar_files\\reprojected\\laz_utm_0-49\\20120203_17SQE1701_utm.laz -SET_ACTIVE_SF 8 -FILTER_SF 1.1 2.1 -RASTERIZE -GRID_STEP 1 -EMPTY_FILL INTERP -OUTPUT_RASTER_Z \n",
      "!\"E:\\Program Files\\CloudCompare\\cloudcompare\" -SILENT -O E:\\a_new_orgs\\carleton\\hist5706-maryland\\lidar_files\\reprojected\\laz_utm_0-49\\20120203_17SQE1801_utm.laz -SET_ACTIVE_SF 8 -FILTER_SF 1.1 2.1 -RASTERIZE -GRID_STEP 1 -EMPTY_FILL INTERP -OUTPUT_RASTER_Z \n",
      "!\"E:\\Program Files\\CloudCompare\\cloudcompare\" -SILENT -O E:\\a_new_orgs\\carleton\\hist5706-maryland\\lidar_files\\reprojected\\laz_utm_0-49\\20120203_17SQE2001_utm.laz -SET_ACTIVE_SF 8 -FILTER_SF 1.1 2.1 -RASTERIZE -GRID_STEP 1 -EMPTY_FILL INTERP -OUTPUT_RASTER_Z \n",
      "!\"E:\\Program Files\\CloudCompare\\cloudcompare\" -SILENT -O E:\\a_new_orgs\\carleton\\hist5706-maryland\\lidar_files\\reprojected\\laz_utm_0-49\\20120203_17SQE2101_utm.laz -SET_ACTIVE_SF 8 -FILTER_SF 1.1 2.1 -RASTERIZE -GRID_STEP 1 -EMPTY_FILL INTERP -OUTPUT_RASTER_Z \n"
     ]
    },
    {
     "data": {
      "text/plain": [
       "\"\\nRasterizes the loaded clouds by projecting them inside a regular grid.\\nOptional settings are:\\n\\n-VERT_DIR {0/1/2} to specify the projection dimension (0=X / 1=Y / 2=Z) - default is 2 (Z)\\n-PROJ {MIN/AVG/MAX} to specify how the altitude of each cell is computed (minimum, average or maximum altitude of the projected points). Default is AVG (average)\\n-SF_PROJ {MIN/AVG/MAX} to specify how the SF value(s) of each cell are computed (minimum, average or maximum altitude of the projected points SF value(s)). Default is AVG (average)\\n-EMPTY_FILL {MIN_H/MAX_H/CUSTOM_H/INTERP} to specify how empty cells should be filled (MIN_H = min height / MAX_H = max height / CUSTOM_H = custom value - see CUSTOM_HEIGHT option below / INTERP = interpolate). Default behavior is 'leave cells empty'\\n-CUSTOM_HEIGHT {value} to define the custom height filling value (if the 'CUSTOM_H' strategy is used (see above)\\n-OUTPUT_CLOUD to output the result as a cloud (this is the default option if no other output format is defined)\\n-OUTPUT_MESH to output the result as a mesh\\n-OUTPUT_RASTER_Z to output the result as a geotiff raster (only altitudes, no RGB)\\n-OUTPUT_RASTER_Z_AND_SF to output the result as a geotiff raster (altitudes + all SFs by default, no RGB)\\n-OUTPUT_RASTER_RGB to output the result as a geotiff raster (RGB)        \\n\""
      ]
     },
     "execution_count": 3,
     "metadata": {},
     "output_type": "execute_result"
    }
   ],
   "source": [
    "# E:\\Program Files\\CloudCompare>cloudcompare -O \n",
    "#'E:/a_new_orgs/carleton/hist5706-maryland/lidar_files/reprojected/20120323_001415_r_utm.laz' \n",
    "#-SET_ACTIVE_SF 6 -FILTER_SF 1.1 2.1 -RASTERIZE -GRID_STEP 1\n",
    "\n",
    "import subprocess\n",
    "import time\n",
    "\n",
    "# example command\n",
    "# C:\\LAStools\\bin\\las2las -i \"E:\\a_new_orgs\\carleton\\hist5706-maryland\\lidar_files\\20120323_001460.laz\" -target_utm 18north -o \"E:\\a_new_orgs\\carleton\\hist5706-maryland\\lidar_files\\reprojected\\20120323_001460_r_utm.laz\"\n",
    "\n",
    "input_laz_utm_fp = \"E:\\\\a_new_orgs\\\\carleton\\\\hist5706-maryland\\\\lidar_files\\\\reprojected\\\\laz_utm_0-49\\\\\"\n",
    "#output_raster_fp = \"E:\\\\a_new_orgs\\\\carleton\\\\hist5706-maryland\\\\lidar_files\\\\rasters\\\\\"\n",
    "\n",
    "\n",
    "import os\n",
    "#process .laz files one at a time\n",
    "for root, dirs, files in os.walk(input_laz_utm_fp, topdown=False):\n",
    "   for name in files:      \n",
    "      #print(name)\n",
    "      name_ext = name[-4:].lower()\n",
    "      if(name_ext==\".laz\"):\n",
    "          laz_in_path = os.path.join(input_laz_utm_fp, name)\n",
    "          #raster_out_path = os.path.join(output_raster_fp, (name[:-4]+\".tif\"))\n",
    "          command = '\"E:\\Program Files\\CloudCompare\\cloudcompare\" -SILENT -O ' + laz_in_path + \" -SET_ACTIVE_SF 8 -FILTER_SF 1.1 2.1 -RASTERIZE -GRID_STEP 1 -EMPTY_FILL INTERP -OUTPUT_RASTER_Z \"\n",
    "          print(\"!\"+command)\n",
    "          subprocess.call(command, shell=True)\n",
    "          # just in case, let the sub process run\n",
    "          time.sleep(4)\n",
    "        \n",
    "\n",
    "\"\"\"\n",
    "Rasterizes the loaded clouds by projecting them inside a regular grid.\n",
    "Optional settings are:\n",
    "\n",
    "-VERT_DIR {0/1/2} to specify the projection dimension (0=X / 1=Y / 2=Z) - default is 2 (Z)\n",
    "-PROJ {MIN/AVG/MAX} to specify how the altitude of each cell is computed (minimum, average or maximum altitude of the projected points). Default is AVG (average)\n",
    "-SF_PROJ {MIN/AVG/MAX} to specify how the SF value(s) of each cell are computed (minimum, average or maximum altitude of the projected points SF value(s)). Default is AVG (average)\n",
    "-EMPTY_FILL {MIN_H/MAX_H/CUSTOM_H/INTERP} to specify how empty cells should be filled (MIN_H = min height / MAX_H = max height / CUSTOM_H = custom value - see CUSTOM_HEIGHT option below / INTERP = interpolate). Default behavior is 'leave cells empty'\n",
    "-CUSTOM_HEIGHT {value} to define the custom height filling value (if the 'CUSTOM_H' strategy is used (see above)\n",
    "-OUTPUT_CLOUD to output the result as a cloud (this is the default option if no other output format is defined)\n",
    "-OUTPUT_MESH to output the result as a mesh\n",
    "-OUTPUT_RASTER_Z to output the result as a geotiff raster (only altitudes, no RGB)\n",
    "-OUTPUT_RASTER_Z_AND_SF to output the result as a geotiff raster (altitudes + all SFs by default, no RGB)\n",
    "-OUTPUT_RASTER_RGB to output the result as a geotiff raster (RGB)        \n",
    "\"\"\""
   ]
  },
  {
   "cell_type": "code",
   "execution_count": 11,
   "metadata": {},
   "outputs": [
    {
     "name": "stderr",
     "output_type": "stream",
     "text": [
      "'e:\\\\Program' is not recognized as an internal or external command,\n",
      "operable program or batch file.\n"
     ]
    }
   ],
   "source": [
    "!\"e:\\Program Files\\CloudCompare\\cloudcompare\" -O E:\\a_new_orgs\\carleton\\\\hist5706-maryland\\\\lidar_files\\\\reprojected\\\\20120203_17SPD7586_utm.laz-SET_ACTIVE_SF 6 -FILTER_SF 1.1 2.1 -RASTERIZE -GRID_STEP 1 -EMPTY_FILL INTERP -OUTPUT_RASTER_Z E:\\\\a_new_orgs\\\\carleton\\\\hist5706-maryland\\\\lidar_files\\\\rasters\\\\20120203_17SPD7586_utm.tif"
   ]
  },
  {
   "cell_type": "markdown",
   "metadata": {},
   "source": [
    "# Move tifs"
   ]
  },
  {
   "cell_type": "code",
   "execution_count": 8,
   "metadata": {},
   "outputs": [
    {
     "name": "stdout",
     "output_type": "stream",
     "text": [
      "E:\\a_new_orgs\\carleton\\hist5706-maryland\\lidar_files\\reprojected\\laz_utm_0-49\\20120131_17SQD2093_utm.laz\n",
      "E:\\a_new_orgs\\carleton\\hist5706-maryland\\lidar_files\\reprojected\\laz_utm_0-49\\20120131_17SQD2093_utm_2021-11-08_17h48_16_180.bin\n",
      "E:\\a_new_orgs\\carleton\\hist5706-maryland\\lidar_files\\reprojected\\laz_utm_0-49\\20120131_17SQD2093_utm_2021-11-08_17h51_13_581.bin\n",
      "E:\\a_new_orgs\\carleton\\hist5706-maryland\\lidar_files\\reprojected\\laz_utm_0-49\\20120131_17SQD2093_utm_FILTERED_[1.1_2.1]_RASTER_Z_2021-11-08_17h51_17_996.tif\n",
      "0 E:\\a_new_orgs\\carleton\\hist5706-maryland\\lidar_files\\reprojected\\laz_utm_0-49\\20120131_17SQD2093_utm_FILTERED_[1.1_2.1]_RASTER_Z_2021-11-08_17h51_17_996.tif\n",
      "E:\\a_new_orgs\\carleton\\hist5706-maryland\\lidar_files\\reprojected\\laz_utm_0-49\\20120131_17SQD2384_utm.laz\n",
      "E:\\a_new_orgs\\carleton\\hist5706-maryland\\lidar_files\\reprojected\\laz_utm_0-49\\20120131_17SQD2384_utm_2021-11-08_17h48_42_690.bin\n",
      "E:\\a_new_orgs\\carleton\\hist5706-maryland\\lidar_files\\reprojected\\laz_utm_0-49\\20120131_17SQD2384_utm_2021-11-08_17h51_34_558.bin\n",
      "E:\\a_new_orgs\\carleton\\hist5706-maryland\\lidar_files\\reprojected\\laz_utm_0-49\\20120131_17SQD2384_utm_FILTERED_[1.1_2.1]_RASTER_Z_2021-11-08_17h51_39_133.tif\n",
      "1 E:\\a_new_orgs\\carleton\\hist5706-maryland\\lidar_files\\reprojected\\laz_utm_0-49\\20120131_17SQD2384_utm_FILTERED_[1.1_2.1]_RASTER_Z_2021-11-08_17h51_39_133.tif\n",
      "E:\\a_new_orgs\\carleton\\hist5706-maryland\\lidar_files\\reprojected\\laz_utm_0-49\\20120131_17SQD2492_utm.laz\n",
      "E:\\a_new_orgs\\carleton\\hist5706-maryland\\lidar_files\\reprojected\\laz_utm_0-49\\20120131_17SQD2492_utm_2021-11-08_17h49_06_193.bin\n",
      "E:\\a_new_orgs\\carleton\\hist5706-maryland\\lidar_files\\reprojected\\laz_utm_0-49\\20120131_17SQD2492_utm_2021-11-08_17h51_55_461.bin\n",
      "E:\\a_new_orgs\\carleton\\hist5706-maryland\\lidar_files\\reprojected\\laz_utm_0-49\\20120131_17SQD2492_utm_FILTERED_[1.1_2.1]_RASTER_Z_2021-11-08_17h52_00_229.tif\n",
      "2 E:\\a_new_orgs\\carleton\\hist5706-maryland\\lidar_files\\reprojected\\laz_utm_0-49\\20120131_17SQD2492_utm_FILTERED_[1.1_2.1]_RASTER_Z_2021-11-08_17h52_00_229.tif\n",
      "E:\\a_new_orgs\\carleton\\hist5706-maryland\\lidar_files\\reprojected\\laz_utm_0-49\\20120131_17SQD2793_utm.laz\n",
      "E:\\a_new_orgs\\carleton\\hist5706-maryland\\lidar_files\\reprojected\\laz_utm_0-49\\20120131_17SQD2793_utm_2021-11-08_17h50_08_178.bin\n",
      "E:\\a_new_orgs\\carleton\\hist5706-maryland\\lidar_files\\reprojected\\laz_utm_0-49\\20120131_17SQD2793_utm_2021-11-08_17h52_16_764.bin\n",
      "E:\\a_new_orgs\\carleton\\hist5706-maryland\\lidar_files\\reprojected\\laz_utm_0-49\\20120131_17SQD2793_utm_FILTERED_[1.1_2.1]_RASTER_Z_2021-11-08_17h52_21_112.tif\n",
      "3 E:\\a_new_orgs\\carleton\\hist5706-maryland\\lidar_files\\reprojected\\laz_utm_0-49\\20120131_17SQD2793_utm_FILTERED_[1.1_2.1]_RASTER_Z_2021-11-08_17h52_21_112.tif\n",
      "E:\\a_new_orgs\\carleton\\hist5706-maryland\\lidar_files\\reprojected\\laz_utm_0-49\\20120131_17SQD2795_utm.laz\n",
      "E:\\a_new_orgs\\carleton\\hist5706-maryland\\lidar_files\\reprojected\\laz_utm_0-49\\20120131_17SQD2795_utm_2021-11-08_17h52_35_512.bin\n",
      "E:\\a_new_orgs\\carleton\\hist5706-maryland\\lidar_files\\reprojected\\laz_utm_0-49\\20120131_17SQD2795_utm_FILTERED_[1.1_2.1]_RASTER_Z_2021-11-08_17h52_39_766.tif\n",
      "4 E:\\a_new_orgs\\carleton\\hist5706-maryland\\lidar_files\\reprojected\\laz_utm_0-49\\20120131_17SQD2795_utm_FILTERED_[1.1_2.1]_RASTER_Z_2021-11-08_17h52_39_766.tif\n",
      "E:\\a_new_orgs\\carleton\\hist5706-maryland\\lidar_files\\reprojected\\laz_utm_0-49\\20120203_17SPD9795_utm.laz\n",
      "E:\\a_new_orgs\\carleton\\hist5706-maryland\\lidar_files\\reprojected\\laz_utm_0-49\\20120203_17SPD9795_utm_2021-11-08_17h52_53_416.bin\n",
      "E:\\a_new_orgs\\carleton\\hist5706-maryland\\lidar_files\\reprojected\\laz_utm_0-49\\20120203_17SPD9795_utm_FILTERED_[1.1_2.1]_RASTER_Z_2021-11-08_17h52_57_758.tif\n",
      "5 E:\\a_new_orgs\\carleton\\hist5706-maryland\\lidar_files\\reprojected\\laz_utm_0-49\\20120203_17SPD9795_utm_FILTERED_[1.1_2.1]_RASTER_Z_2021-11-08_17h52_57_758.tif\n",
      "E:\\a_new_orgs\\carleton\\hist5706-maryland\\lidar_files\\reprojected\\laz_utm_0-49\\20120203_17SPE9901_utm.laz\n",
      "E:\\a_new_orgs\\carleton\\hist5706-maryland\\lidar_files\\reprojected\\laz_utm_0-49\\20120203_17SPE9901_utm_2021-11-08_17h53_09_008.bin\n",
      "E:\\a_new_orgs\\carleton\\hist5706-maryland\\lidar_files\\reprojected\\laz_utm_0-49\\20120203_17SPE9901_utm_FILTERED_[1.1_2.1]_RASTER_Z_2021-11-08_17h53_11_874.tif\n",
      "6 E:\\a_new_orgs\\carleton\\hist5706-maryland\\lidar_files\\reprojected\\laz_utm_0-49\\20120203_17SPE9901_utm_FILTERED_[1.1_2.1]_RASTER_Z_2021-11-08_17h53_11_874.tif\n",
      "E:\\a_new_orgs\\carleton\\hist5706-maryland\\lidar_files\\reprojected\\laz_utm_0-49\\20120203_17SQD0095_utm.laz\n",
      "E:\\a_new_orgs\\carleton\\hist5706-maryland\\lidar_files\\reprojected\\laz_utm_0-49\\20120203_17SQD0095_utm_2021-11-08_17h53_27_936.bin\n",
      "E:\\a_new_orgs\\carleton\\hist5706-maryland\\lidar_files\\reprojected\\laz_utm_0-49\\20120203_17SQD0095_utm_FILTERED_[1.1_2.1]_RASTER_Z_2021-11-08_17h53_32_327.tif\n",
      "7 E:\\a_new_orgs\\carleton\\hist5706-maryland\\lidar_files\\reprojected\\laz_utm_0-49\\20120203_17SQD0095_utm_FILTERED_[1.1_2.1]_RASTER_Z_2021-11-08_17h53_32_327.tif\n",
      "E:\\a_new_orgs\\carleton\\hist5706-maryland\\lidar_files\\reprojected\\laz_utm_0-49\\20120203_17SQD0096_utm.laz\n",
      "E:\\a_new_orgs\\carleton\\hist5706-maryland\\lidar_files\\reprojected\\laz_utm_0-49\\20120203_17SQD0096_utm_2021-11-08_17h53_48_916.bin\n",
      "E:\\a_new_orgs\\carleton\\hist5706-maryland\\lidar_files\\reprojected\\laz_utm_0-49\\20120203_17SQD0096_utm_FILTERED_[1.1_2.1]_RASTER_Z_2021-11-08_17h53_53_351.tif\n",
      "8 E:\\a_new_orgs\\carleton\\hist5706-maryland\\lidar_files\\reprojected\\laz_utm_0-49\\20120203_17SQD0096_utm_FILTERED_[1.1_2.1]_RASTER_Z_2021-11-08_17h53_53_351.tif\n",
      "E:\\a_new_orgs\\carleton\\hist5706-maryland\\lidar_files\\reprojected\\laz_utm_0-49\\20120203_17SQD0398_utm.laz\n",
      "E:\\a_new_orgs\\carleton\\hist5706-maryland\\lidar_files\\reprojected\\laz_utm_0-49\\20120203_17SQD0398_utm_2021-11-08_17h54_07_886.bin\n",
      "E:\\a_new_orgs\\carleton\\hist5706-maryland\\lidar_files\\reprojected\\laz_utm_0-49\\20120203_17SQD0398_utm_FILTERED_[1.1_2.1]_RASTER_Z_2021-11-08_17h54_12_463.tif\n",
      "9 E:\\a_new_orgs\\carleton\\hist5706-maryland\\lidar_files\\reprojected\\laz_utm_0-49\\20120203_17SQD0398_utm_FILTERED_[1.1_2.1]_RASTER_Z_2021-11-08_17h54_12_463.tif\n",
      "E:\\a_new_orgs\\carleton\\hist5706-maryland\\lidar_files\\reprojected\\laz_utm_0-49\\20120203_17SQD0399_utm.laz\n",
      "E:\\a_new_orgs\\carleton\\hist5706-maryland\\lidar_files\\reprojected\\laz_utm_0-49\\20120203_17SQD0399_utm_2021-11-08_17h54_26_853.bin\n",
      "E:\\a_new_orgs\\carleton\\hist5706-maryland\\lidar_files\\reprojected\\laz_utm_0-49\\20120203_17SQD0399_utm_FILTERED_[1.1_2.1]_RASTER_Z_2021-11-08_17h54_31_338.tif\n",
      "10 E:\\a_new_orgs\\carleton\\hist5706-maryland\\lidar_files\\reprojected\\laz_utm_0-49\\20120203_17SQD0399_utm_FILTERED_[1.1_2.1]_RASTER_Z_2021-11-08_17h54_31_338.tif\n",
      "E:\\a_new_orgs\\carleton\\hist5706-maryland\\lidar_files\\reprojected\\laz_utm_0-49\\20120203_17SQD0596_utm.laz\n",
      "E:\\a_new_orgs\\carleton\\hist5706-maryland\\lidar_files\\reprojected\\laz_utm_0-49\\20120203_17SQD0596_utm_2021-11-08_17h54_46_444.bin\n",
      "E:\\a_new_orgs\\carleton\\hist5706-maryland\\lidar_files\\reprojected\\laz_utm_0-49\\20120203_17SQD0596_utm_FILTERED_[1.1_2.1]_RASTER_Z_2021-11-08_17h54_50_952.tif\n",
      "11 E:\\a_new_orgs\\carleton\\hist5706-maryland\\lidar_files\\reprojected\\laz_utm_0-49\\20120203_17SQD0596_utm_FILTERED_[1.1_2.1]_RASTER_Z_2021-11-08_17h54_50_952.tif\n",
      "E:\\a_new_orgs\\carleton\\hist5706-maryland\\lidar_files\\reprojected\\laz_utm_0-49\\20120203_17SQD0598_utm.laz\n",
      "E:\\a_new_orgs\\carleton\\hist5706-maryland\\lidar_files\\reprojected\\laz_utm_0-49\\20120203_17SQD0598_utm_2021-11-08_17h55_06_196.bin\n",
      "E:\\a_new_orgs\\carleton\\hist5706-maryland\\lidar_files\\reprojected\\laz_utm_0-49\\20120203_17SQD0598_utm_FILTERED_[1.1_2.1]_RASTER_Z_2021-11-08_17h55_10_882.tif\n",
      "12 E:\\a_new_orgs\\carleton\\hist5706-maryland\\lidar_files\\reprojected\\laz_utm_0-49\\20120203_17SQD0598_utm_FILTERED_[1.1_2.1]_RASTER_Z_2021-11-08_17h55_10_882.tif\n",
      "E:\\a_new_orgs\\carleton\\hist5706-maryland\\lidar_files\\reprojected\\laz_utm_0-49\\20120203_17SQD0898_utm.laz\n",
      "E:\\a_new_orgs\\carleton\\hist5706-maryland\\lidar_files\\reprojected\\laz_utm_0-49\\20120203_17SQD0898_utm_2021-11-08_17h55_25_530.bin\n",
      "E:\\a_new_orgs\\carleton\\hist5706-maryland\\lidar_files\\reprojected\\laz_utm_0-49\\20120203_17SQD0898_utm_FILTERED_[1.1_2.1]_RASTER_Z_2021-11-08_17h55_30_070.tif\n",
      "13 E:\\a_new_orgs\\carleton\\hist5706-maryland\\lidar_files\\reprojected\\laz_utm_0-49\\20120203_17SQD0898_utm_FILTERED_[1.1_2.1]_RASTER_Z_2021-11-08_17h55_30_070.tif\n",
      "E:\\a_new_orgs\\carleton\\hist5706-maryland\\lidar_files\\reprojected\\laz_utm_0-49\\20120203_17SQD0899_utm.laz\n",
      "E:\\a_new_orgs\\carleton\\hist5706-maryland\\lidar_files\\reprojected\\laz_utm_0-49\\20120203_17SQD0899_utm_2021-11-08_17h55_44_131.bin\n",
      "E:\\a_new_orgs\\carleton\\hist5706-maryland\\lidar_files\\reprojected\\laz_utm_0-49\\20120203_17SQD0899_utm_FILTERED_[1.1_2.1]_RASTER_Z_2021-11-08_17h55_48_526.tif\n"
     ]
    },
    {
     "name": "stdout",
     "output_type": "stream",
     "text": [
      "14 E:\\a_new_orgs\\carleton\\hist5706-maryland\\lidar_files\\reprojected\\laz_utm_0-49\\20120203_17SQD0899_utm_FILTERED_[1.1_2.1]_RASTER_Z_2021-11-08_17h55_48_526.tif\n",
      "E:\\a_new_orgs\\carleton\\hist5706-maryland\\lidar_files\\reprojected\\laz_utm_0-49\\20120203_17SQD0996_utm.laz\n",
      "E:\\a_new_orgs\\carleton\\hist5706-maryland\\lidar_files\\reprojected\\laz_utm_0-49\\20120203_17SQD0996_utm_2021-11-08_17h56_03_417.bin\n",
      "E:\\a_new_orgs\\carleton\\hist5706-maryland\\lidar_files\\reprojected\\laz_utm_0-49\\20120203_17SQD0996_utm_FILTERED_[1.1_2.1]_RASTER_Z_2021-11-08_17h56_07_940.tif\n",
      "15 E:\\a_new_orgs\\carleton\\hist5706-maryland\\lidar_files\\reprojected\\laz_utm_0-49\\20120203_17SQD0996_utm_FILTERED_[1.1_2.1]_RASTER_Z_2021-11-08_17h56_07_940.tif\n",
      "E:\\a_new_orgs\\carleton\\hist5706-maryland\\lidar_files\\reprojected\\laz_utm_0-49\\20120203_17SQD0998_utm.laz\n",
      "E:\\a_new_orgs\\carleton\\hist5706-maryland\\lidar_files\\reprojected\\laz_utm_0-49\\20120203_17SQD0998_utm_2021-11-08_17h56_21_791.bin\n",
      "E:\\a_new_orgs\\carleton\\hist5706-maryland\\lidar_files\\reprojected\\laz_utm_0-49\\20120203_17SQD0998_utm_FILTERED_[1.1_2.1]_RASTER_Z_2021-11-08_17h56_26_338.tif\n",
      "16 E:\\a_new_orgs\\carleton\\hist5706-maryland\\lidar_files\\reprojected\\laz_utm_0-49\\20120203_17SQD0998_utm_FILTERED_[1.1_2.1]_RASTER_Z_2021-11-08_17h56_26_338.tif\n",
      "E:\\a_new_orgs\\carleton\\hist5706-maryland\\lidar_files\\reprojected\\laz_utm_0-49\\20120203_17SQD0999_utm.laz\n",
      "E:\\a_new_orgs\\carleton\\hist5706-maryland\\lidar_files\\reprojected\\laz_utm_0-49\\20120203_17SQD0999_utm_2021-11-08_17h56_41_577.bin\n",
      "E:\\a_new_orgs\\carleton\\hist5706-maryland\\lidar_files\\reprojected\\laz_utm_0-49\\20120203_17SQD0999_utm_FILTERED_[1.1_2.1]_RASTER_Z_2021-11-08_17h56_45_996.tif\n",
      "17 E:\\a_new_orgs\\carleton\\hist5706-maryland\\lidar_files\\reprojected\\laz_utm_0-49\\20120203_17SQD0999_utm_FILTERED_[1.1_2.1]_RASTER_Z_2021-11-08_17h56_45_996.tif\n",
      "E:\\a_new_orgs\\carleton\\hist5706-maryland\\lidar_files\\reprojected\\laz_utm_0-49\\20120203_17SQD1298_utm.laz\n",
      "E:\\a_new_orgs\\carleton\\hist5706-maryland\\lidar_files\\reprojected\\laz_utm_0-49\\20120203_17SQD1298_utm_2021-11-08_17h57_01_272.bin\n",
      "E:\\a_new_orgs\\carleton\\hist5706-maryland\\lidar_files\\reprojected\\laz_utm_0-49\\20120203_17SQD1298_utm_FILTERED_[1.1_2.1]_RASTER_Z_2021-11-08_17h57_05_835.tif\n",
      "18 E:\\a_new_orgs\\carleton\\hist5706-maryland\\lidar_files\\reprojected\\laz_utm_0-49\\20120203_17SQD1298_utm_FILTERED_[1.1_2.1]_RASTER_Z_2021-11-08_17h57_05_835.tif\n",
      "E:\\a_new_orgs\\carleton\\hist5706-maryland\\lidar_files\\reprojected\\laz_utm_0-49\\20120203_17SQD1299_utm.laz\n",
      "E:\\a_new_orgs\\carleton\\hist5706-maryland\\lidar_files\\reprojected\\laz_utm_0-49\\20120203_17SQD1299_utm_2021-11-08_17h57_21_056.bin\n",
      "E:\\a_new_orgs\\carleton\\hist5706-maryland\\lidar_files\\reprojected\\laz_utm_0-49\\20120203_17SQD1299_utm_FILTERED_[1.1_2.1]_RASTER_Z_2021-11-08_17h57_25_499.tif\n",
      "19 E:\\a_new_orgs\\carleton\\hist5706-maryland\\lidar_files\\reprojected\\laz_utm_0-49\\20120203_17SQD1299_utm_FILTERED_[1.1_2.1]_RASTER_Z_2021-11-08_17h57_25_499.tif\n",
      "E:\\a_new_orgs\\carleton\\hist5706-maryland\\lidar_files\\reprojected\\laz_utm_0-49\\20120203_17SQD1496_utm.laz\n",
      "E:\\a_new_orgs\\carleton\\hist5706-maryland\\lidar_files\\reprojected\\laz_utm_0-49\\20120203_17SQD1496_utm_2021-11-08_17h57_40_170.bin\n",
      "E:\\a_new_orgs\\carleton\\hist5706-maryland\\lidar_files\\reprojected\\laz_utm_0-49\\20120203_17SQD1496_utm_FILTERED_[1.1_2.1]_RASTER_Z_2021-11-08_17h57_44_597.tif\n",
      "20 E:\\a_new_orgs\\carleton\\hist5706-maryland\\lidar_files\\reprojected\\laz_utm_0-49\\20120203_17SQD1496_utm_FILTERED_[1.1_2.1]_RASTER_Z_2021-11-08_17h57_44_597.tif\n",
      "E:\\a_new_orgs\\carleton\\hist5706-maryland\\lidar_files\\reprojected\\laz_utm_0-49\\20120203_17SQD1498_utm.laz\n",
      "E:\\a_new_orgs\\carleton\\hist5706-maryland\\lidar_files\\reprojected\\laz_utm_0-49\\20120203_17SQD1498_utm_2021-11-08_17h57_59_091.bin\n",
      "E:\\a_new_orgs\\carleton\\hist5706-maryland\\lidar_files\\reprojected\\laz_utm_0-49\\20120203_17SQD1498_utm_FILTERED_[1.1_2.1]_RASTER_Z_2021-11-08_17h58_03_565.tif\n",
      "21 E:\\a_new_orgs\\carleton\\hist5706-maryland\\lidar_files\\reprojected\\laz_utm_0-49\\20120203_17SQD1498_utm_FILTERED_[1.1_2.1]_RASTER_Z_2021-11-08_17h58_03_565.tif\n",
      "E:\\a_new_orgs\\carleton\\hist5706-maryland\\lidar_files\\reprojected\\laz_utm_0-49\\20120203_17SQD1499_utm.laz\n",
      "E:\\a_new_orgs\\carleton\\hist5706-maryland\\lidar_files\\reprojected\\laz_utm_0-49\\20120203_17SQD1499_utm_2021-11-08_17h58_18_872.bin\n",
      "E:\\a_new_orgs\\carleton\\hist5706-maryland\\lidar_files\\reprojected\\laz_utm_0-49\\20120203_17SQD1499_utm_FILTERED_[1.1_2.1]_RASTER_Z_2021-11-08_17h58_23_343.tif\n",
      "22 E:\\a_new_orgs\\carleton\\hist5706-maryland\\lidar_files\\reprojected\\laz_utm_0-49\\20120203_17SQD1499_utm_FILTERED_[1.1_2.1]_RASTER_Z_2021-11-08_17h58_23_343.tif\n",
      "E:\\a_new_orgs\\carleton\\hist5706-maryland\\lidar_files\\reprojected\\laz_utm_0-49\\20120203_17SQD1596_utm.laz\n",
      "E:\\a_new_orgs\\carleton\\hist5706-maryland\\lidar_files\\reprojected\\laz_utm_0-49\\20120203_17SQD1596_utm_2021-11-08_17h58_38_323.bin\n",
      "E:\\a_new_orgs\\carleton\\hist5706-maryland\\lidar_files\\reprojected\\laz_utm_0-49\\20120203_17SQD1596_utm_FILTERED_[1.1_2.1]_RASTER_Z_2021-11-08_17h58_42_731.tif\n",
      "23 E:\\a_new_orgs\\carleton\\hist5706-maryland\\lidar_files\\reprojected\\laz_utm_0-49\\20120203_17SQD1596_utm_FILTERED_[1.1_2.1]_RASTER_Z_2021-11-08_17h58_42_731.tif\n",
      "E:\\a_new_orgs\\carleton\\hist5706-maryland\\lidar_files\\reprojected\\laz_utm_0-49\\20120203_17SQD1799_utm.laz\n",
      "E:\\a_new_orgs\\carleton\\hist5706-maryland\\lidar_files\\reprojected\\laz_utm_0-49\\20120203_17SQD1799_utm_2021-11-08_17h58_57_755.bin\n",
      "E:\\a_new_orgs\\carleton\\hist5706-maryland\\lidar_files\\reprojected\\laz_utm_0-49\\20120203_17SQD1799_utm_FILTERED_[1.1_2.1]_RASTER_Z_2021-11-08_17h59_02_186.tif\n",
      "24 E:\\a_new_orgs\\carleton\\hist5706-maryland\\lidar_files\\reprojected\\laz_utm_0-49\\20120203_17SQD1799_utm_FILTERED_[1.1_2.1]_RASTER_Z_2021-11-08_17h59_02_186.tif\n",
      "E:\\a_new_orgs\\carleton\\hist5706-maryland\\lidar_files\\reprojected\\laz_utm_0-49\\20120203_17SQD1896_utm.laz\n",
      "E:\\a_new_orgs\\carleton\\hist5706-maryland\\lidar_files\\reprojected\\laz_utm_0-49\\20120203_17SQD1896_utm_2021-11-08_17h59_17_001.bin\n",
      "E:\\a_new_orgs\\carleton\\hist5706-maryland\\lidar_files\\reprojected\\laz_utm_0-49\\20120203_17SQD1896_utm_FILTERED_[1.1_2.1]_RASTER_Z_2021-11-08_17h59_21_397.tif\n",
      "25 E:\\a_new_orgs\\carleton\\hist5706-maryland\\lidar_files\\reprojected\\laz_utm_0-49\\20120203_17SQD1896_utm_FILTERED_[1.1_2.1]_RASTER_Z_2021-11-08_17h59_21_397.tif\n",
      "E:\\a_new_orgs\\carleton\\hist5706-maryland\\lidar_files\\reprojected\\laz_utm_0-49\\20120203_17SQD1898_utm.laz\n",
      "E:\\a_new_orgs\\carleton\\hist5706-maryland\\lidar_files\\reprojected\\laz_utm_0-49\\20120203_17SQD1898_utm_2021-11-08_17h59_37_312.bin\n",
      "E:\\a_new_orgs\\carleton\\hist5706-maryland\\lidar_files\\reprojected\\laz_utm_0-49\\20120203_17SQD1898_utm_FILTERED_[1.1_2.1]_RASTER_Z_2021-11-08_17h59_41_745.tif\n",
      "26 E:\\a_new_orgs\\carleton\\hist5706-maryland\\lidar_files\\reprojected\\laz_utm_0-49\\20120203_17SQD1898_utm_FILTERED_[1.1_2.1]_RASTER_Z_2021-11-08_17h59_41_745.tif\n",
      "E:\\a_new_orgs\\carleton\\hist5706-maryland\\lidar_files\\reprojected\\laz_utm_0-49\\20120203_17SQD1899_utm.laz\n",
      "E:\\a_new_orgs\\carleton\\hist5706-maryland\\lidar_files\\reprojected\\laz_utm_0-49\\20120203_17SQD1899_utm_2021-11-08_17h59_57_456.bin\n",
      "E:\\a_new_orgs\\carleton\\hist5706-maryland\\lidar_files\\reprojected\\laz_utm_0-49\\20120203_17SQD1899_utm_FILTERED_[1.1_2.1]_RASTER_Z_2021-11-08_18h00_01_882.tif\n",
      "27 E:\\a_new_orgs\\carleton\\hist5706-maryland\\lidar_files\\reprojected\\laz_utm_0-49\\20120203_17SQD1899_utm_FILTERED_[1.1_2.1]_RASTER_Z_2021-11-08_18h00_01_882.tif\n",
      "E:\\a_new_orgs\\carleton\\hist5706-maryland\\lidar_files\\reprojected\\laz_utm_0-49\\20120203_17SQD2096_utm.laz\n",
      "E:\\a_new_orgs\\carleton\\hist5706-maryland\\lidar_files\\reprojected\\laz_utm_0-49\\20120203_17SQD2096_utm_2021-11-08_18h00_17_447.bin\n",
      "E:\\a_new_orgs\\carleton\\hist5706-maryland\\lidar_files\\reprojected\\laz_utm_0-49\\20120203_17SQD2096_utm_FILTERED_[1.1_2.1]_RASTER_Z_2021-11-08_18h00_21_875.tif\n",
      "28 E:\\a_new_orgs\\carleton\\hist5706-maryland\\lidar_files\\reprojected\\laz_utm_0-49\\20120203_17SQD2096_utm_FILTERED_[1.1_2.1]_RASTER_Z_2021-11-08_18h00_21_875.tif\n",
      "E:\\a_new_orgs\\carleton\\hist5706-maryland\\lidar_files\\reprojected\\laz_utm_0-49\\20120203_17SQD2098_utm.laz\n",
      "E:\\a_new_orgs\\carleton\\hist5706-maryland\\lidar_files\\reprojected\\laz_utm_0-49\\20120203_17SQD2098_utm_2021-11-08_18h00_36_675.bin\n",
      "E:\\a_new_orgs\\carleton\\hist5706-maryland\\lidar_files\\reprojected\\laz_utm_0-49\\20120203_17SQD2098_utm_FILTERED_[1.1_2.1]_RASTER_Z_2021-11-08_18h00_41_131.tif\n"
     ]
    },
    {
     "name": "stdout",
     "output_type": "stream",
     "text": [
      "29 E:\\a_new_orgs\\carleton\\hist5706-maryland\\lidar_files\\reprojected\\laz_utm_0-49\\20120203_17SQD2098_utm_FILTERED_[1.1_2.1]_RASTER_Z_2021-11-08_18h00_41_131.tif\n",
      "E:\\a_new_orgs\\carleton\\hist5706-maryland\\lidar_files\\reprojected\\laz_utm_0-49\\20120203_17SQD2099_utm.laz\n",
      "E:\\a_new_orgs\\carleton\\hist5706-maryland\\lidar_files\\reprojected\\laz_utm_0-49\\20120203_17SQD2099_utm_2021-11-08_18h00_56_285.bin\n",
      "E:\\a_new_orgs\\carleton\\hist5706-maryland\\lidar_files\\reprojected\\laz_utm_0-49\\20120203_17SQD2099_utm_FILTERED_[1.1_2.1]_RASTER_Z_2021-11-08_18h01_00_765.tif\n",
      "30 E:\\a_new_orgs\\carleton\\hist5706-maryland\\lidar_files\\reprojected\\laz_utm_0-49\\20120203_17SQD2099_utm_FILTERED_[1.1_2.1]_RASTER_Z_2021-11-08_18h01_00_765.tif\n",
      "E:\\a_new_orgs\\carleton\\hist5706-maryland\\lidar_files\\reprojected\\laz_utm_0-49\\20120203_17SQD2196_utm.laz\n",
      "E:\\a_new_orgs\\carleton\\hist5706-maryland\\lidar_files\\reprojected\\laz_utm_0-49\\20120203_17SQD2196_utm_2021-11-08_18h01_16_432.bin\n",
      "E:\\a_new_orgs\\carleton\\hist5706-maryland\\lidar_files\\reprojected\\laz_utm_0-49\\20120203_17SQD2196_utm_FILTERED_[1.1_2.1]_RASTER_Z_2021-11-08_18h01_21_757.tif\n",
      "31 E:\\a_new_orgs\\carleton\\hist5706-maryland\\lidar_files\\reprojected\\laz_utm_0-49\\20120203_17SQD2196_utm_FILTERED_[1.1_2.1]_RASTER_Z_2021-11-08_18h01_21_757.tif\n",
      "E:\\a_new_orgs\\carleton\\hist5706-maryland\\lidar_files\\reprojected\\laz_utm_0-49\\20120203_17SQD2198_utm.laz\n",
      "E:\\a_new_orgs\\carleton\\hist5706-maryland\\lidar_files\\reprojected\\laz_utm_0-49\\20120203_17SQD2198_utm_2021-11-08_18h01_38_328.bin\n",
      "E:\\a_new_orgs\\carleton\\hist5706-maryland\\lidar_files\\reprojected\\laz_utm_0-49\\20120203_17SQD2198_utm_FILTERED_[1.1_2.1]_RASTER_Z_2021-11-08_18h01_42_797.tif\n",
      "32 E:\\a_new_orgs\\carleton\\hist5706-maryland\\lidar_files\\reprojected\\laz_utm_0-49\\20120203_17SQD2198_utm_FILTERED_[1.1_2.1]_RASTER_Z_2021-11-08_18h01_42_797.tif\n",
      "E:\\a_new_orgs\\carleton\\hist5706-maryland\\lidar_files\\reprojected\\laz_utm_0-49\\20120203_17SQD2199_utm.laz\n",
      "E:\\a_new_orgs\\carleton\\hist5706-maryland\\lidar_files\\reprojected\\laz_utm_0-49\\20120203_17SQD2199_utm_2021-11-08_18h01_57_004.bin\n",
      "E:\\a_new_orgs\\carleton\\hist5706-maryland\\lidar_files\\reprojected\\laz_utm_0-49\\20120203_17SQD2199_utm_FILTERED_[1.1_2.1]_RASTER_Z_2021-11-08_18h02_01_503.tif\n",
      "33 E:\\a_new_orgs\\carleton\\hist5706-maryland\\lidar_files\\reprojected\\laz_utm_0-49\\20120203_17SQD2199_utm_FILTERED_[1.1_2.1]_RASTER_Z_2021-11-08_18h02_01_503.tif\n",
      "E:\\a_new_orgs\\carleton\\hist5706-maryland\\lidar_files\\reprojected\\laz_utm_0-49\\20120203_17SQD2396_utm.laz\n",
      "E:\\a_new_orgs\\carleton\\hist5706-maryland\\lidar_files\\reprojected\\laz_utm_0-49\\20120203_17SQD2396_utm_2021-11-08_18h02_16_492.bin\n",
      "E:\\a_new_orgs\\carleton\\hist5706-maryland\\lidar_files\\reprojected\\laz_utm_0-49\\20120203_17SQD2396_utm_FILTERED_[1.1_2.1]_RASTER_Z_2021-11-08_18h02_20_942.tif\n",
      "34 E:\\a_new_orgs\\carleton\\hist5706-maryland\\lidar_files\\reprojected\\laz_utm_0-49\\20120203_17SQD2396_utm_FILTERED_[1.1_2.1]_RASTER_Z_2021-11-08_18h02_20_942.tif\n",
      "E:\\a_new_orgs\\carleton\\hist5706-maryland\\lidar_files\\reprojected\\laz_utm_0-49\\20120203_17SQD2398_utm.laz\n",
      "E:\\a_new_orgs\\carleton\\hist5706-maryland\\lidar_files\\reprojected\\laz_utm_0-49\\20120203_17SQD2398_utm_2021-11-08_18h02_35_280.bin\n",
      "E:\\a_new_orgs\\carleton\\hist5706-maryland\\lidar_files\\reprojected\\laz_utm_0-49\\20120203_17SQD2398_utm_FILTERED_[1.1_2.1]_RASTER_Z_2021-11-08_18h02_39_836.tif\n",
      "35 E:\\a_new_orgs\\carleton\\hist5706-maryland\\lidar_files\\reprojected\\laz_utm_0-49\\20120203_17SQD2398_utm_FILTERED_[1.1_2.1]_RASTER_Z_2021-11-08_18h02_39_836.tif\n",
      "E:\\a_new_orgs\\carleton\\hist5706-maryland\\lidar_files\\reprojected\\laz_utm_0-49\\20120203_17SQD2399_utm.laz\n",
      "E:\\a_new_orgs\\carleton\\hist5706-maryland\\lidar_files\\reprojected\\laz_utm_0-49\\20120203_17SQD2399_utm_2021-11-08_18h02_54_675.bin\n",
      "E:\\a_new_orgs\\carleton\\hist5706-maryland\\lidar_files\\reprojected\\laz_utm_0-49\\20120203_17SQD2399_utm_FILTERED_[1.1_2.1]_RASTER_Z_2021-11-08_18h02_59_124.tif\n",
      "36 E:\\a_new_orgs\\carleton\\hist5706-maryland\\lidar_files\\reprojected\\laz_utm_0-49\\20120203_17SQD2399_utm_FILTERED_[1.1_2.1]_RASTER_Z_2021-11-08_18h02_59_124.tif\n",
      "E:\\a_new_orgs\\carleton\\hist5706-maryland\\lidar_files\\reprojected\\laz_utm_0-49\\20120203_17SQD2696_utm.laz\n",
      "E:\\a_new_orgs\\carleton\\hist5706-maryland\\lidar_files\\reprojected\\laz_utm_0-49\\20120203_17SQD2696_utm_2021-11-08_18h03_13_281.bin\n",
      "E:\\a_new_orgs\\carleton\\hist5706-maryland\\lidar_files\\reprojected\\laz_utm_0-49\\20120203_17SQD2696_utm_FILTERED_[1.1_2.1]_RASTER_Z_2021-11-08_18h03_17_726.tif\n",
      "37 E:\\a_new_orgs\\carleton\\hist5706-maryland\\lidar_files\\reprojected\\laz_utm_0-49\\20120203_17SQD2696_utm_FILTERED_[1.1_2.1]_RASTER_Z_2021-11-08_18h03_17_726.tif\n",
      "E:\\a_new_orgs\\carleton\\hist5706-maryland\\lidar_files\\reprojected\\laz_utm_0-49\\20120203_17SQD2698_utm.laz\n",
      "E:\\a_new_orgs\\carleton\\hist5706-maryland\\lidar_files\\reprojected\\laz_utm_0-49\\20120203_17SQD2698_utm_2021-11-08_18h03_32_726.bin\n",
      "E:\\a_new_orgs\\carleton\\hist5706-maryland\\lidar_files\\reprojected\\laz_utm_0-49\\20120203_17SQD2698_utm_FILTERED_[1.1_2.1]_RASTER_Z_2021-11-08_18h03_37_208.tif\n",
      "38 E:\\a_new_orgs\\carleton\\hist5706-maryland\\lidar_files\\reprojected\\laz_utm_0-49\\20120203_17SQD2698_utm_FILTERED_[1.1_2.1]_RASTER_Z_2021-11-08_18h03_37_208.tif\n",
      "E:\\a_new_orgs\\carleton\\hist5706-maryland\\lidar_files\\reprojected\\laz_utm_0-49\\20120203_17SQD2699_utm.laz\n",
      "E:\\a_new_orgs\\carleton\\hist5706-maryland\\lidar_files\\reprojected\\laz_utm_0-49\\20120203_17SQD2699_utm_2021-11-08_18h03_50_429.bin\n",
      "E:\\a_new_orgs\\carleton\\hist5706-maryland\\lidar_files\\reprojected\\laz_utm_0-49\\20120203_17SQD2699_utm_FILTERED_[1.1_2.1]_RASTER_Z_2021-11-08_18h03_54_829.tif\n",
      "39 E:\\a_new_orgs\\carleton\\hist5706-maryland\\lidar_files\\reprojected\\laz_utm_0-49\\20120203_17SQD2699_utm_FILTERED_[1.1_2.1]_RASTER_Z_2021-11-08_18h03_54_829.tif\n",
      "E:\\a_new_orgs\\carleton\\hist5706-maryland\\lidar_files\\reprojected\\laz_utm_0-49\\20120203_17SQD2796_utm.laz\n",
      "E:\\a_new_orgs\\carleton\\hist5706-maryland\\lidar_files\\reprojected\\laz_utm_0-49\\20120203_17SQD2796_utm_2021-11-08_18h04_09_051.bin\n",
      "E:\\a_new_orgs\\carleton\\hist5706-maryland\\lidar_files\\reprojected\\laz_utm_0-49\\20120203_17SQD2796_utm_FILTERED_[1.1_2.1]_RASTER_Z_2021-11-08_18h04_13_352.tif\n",
      "40 E:\\a_new_orgs\\carleton\\hist5706-maryland\\lidar_files\\reprojected\\laz_utm_0-49\\20120203_17SQD2796_utm_FILTERED_[1.1_2.1]_RASTER_Z_2021-11-08_18h04_13_352.tif\n",
      "E:\\a_new_orgs\\carleton\\hist5706-maryland\\lidar_files\\reprojected\\laz_utm_0-49\\20120203_17SQD2798_utm.laz\n",
      "E:\\a_new_orgs\\carleton\\hist5706-maryland\\lidar_files\\reprojected\\laz_utm_0-49\\20120203_17SQD2798_utm_2021-11-08_18h04_27_858.bin\n",
      "E:\\a_new_orgs\\carleton\\hist5706-maryland\\lidar_files\\reprojected\\laz_utm_0-49\\20120203_17SQD2798_utm_FILTERED_[1.1_2.1]_RASTER_Z_2021-11-08_18h04_32_409.tif\n",
      "41 E:\\a_new_orgs\\carleton\\hist5706-maryland\\lidar_files\\reprojected\\laz_utm_0-49\\20120203_17SQD2798_utm_FILTERED_[1.1_2.1]_RASTER_Z_2021-11-08_18h04_32_409.tif\n",
      "E:\\a_new_orgs\\carleton\\hist5706-maryland\\lidar_files\\reprojected\\laz_utm_0-49\\20120203_17SQD2799_utm.laz\n",
      "E:\\a_new_orgs\\carleton\\hist5706-maryland\\lidar_files\\reprojected\\laz_utm_0-49\\20120203_17SQD2799_utm_2021-11-08_18h04_46_778.bin\n",
      "E:\\a_new_orgs\\carleton\\hist5706-maryland\\lidar_files\\reprojected\\laz_utm_0-49\\20120203_17SQD2799_utm_FILTERED_[1.1_2.1]_RASTER_Z_2021-11-08_18h04_51_039.tif\n",
      "42 E:\\a_new_orgs\\carleton\\hist5706-maryland\\lidar_files\\reprojected\\laz_utm_0-49\\20120203_17SQD2799_utm_FILTERED_[1.1_2.1]_RASTER_Z_2021-11-08_18h04_51_039.tif\n",
      "E:\\a_new_orgs\\carleton\\hist5706-maryland\\lidar_files\\reprojected\\laz_utm_0-49\\20120203_17SQE0201_utm.laz\n",
      "E:\\a_new_orgs\\carleton\\hist5706-maryland\\lidar_files\\reprojected\\laz_utm_0-49\\20120203_17SQE0201_utm_2021-11-08_18h05_02_051.bin\n",
      "E:\\a_new_orgs\\carleton\\hist5706-maryland\\lidar_files\\reprojected\\laz_utm_0-49\\20120203_17SQE0201_utm_FILTERED_[1.1_2.1]_RASTER_Z_2021-11-08_18h05_04_722.tif\n",
      "43 E:\\a_new_orgs\\carleton\\hist5706-maryland\\lidar_files\\reprojected\\laz_utm_0-49\\20120203_17SQE0201_utm_FILTERED_[1.1_2.1]_RASTER_Z_2021-11-08_18h05_04_722.tif\n",
      "E:\\a_new_orgs\\carleton\\hist5706-maryland\\lidar_files\\reprojected\\laz_utm_0-49\\20120203_17SQE0301_utm.laz\n",
      "E:\\a_new_orgs\\carleton\\hist5706-maryland\\lidar_files\\reprojected\\laz_utm_0-49\\20120203_17SQE0301_utm_2021-11-08_18h05_15_686.bin\n",
      "E:\\a_new_orgs\\carleton\\hist5706-maryland\\lidar_files\\reprojected\\laz_utm_0-49\\20120203_17SQE0301_utm_FILTERED_[1.1_2.1]_RASTER_Z_2021-11-08_18h05_18_414.tif\n"
     ]
    },
    {
     "name": "stdout",
     "output_type": "stream",
     "text": [
      "44 E:\\a_new_orgs\\carleton\\hist5706-maryland\\lidar_files\\reprojected\\laz_utm_0-49\\20120203_17SQE0301_utm_FILTERED_[1.1_2.1]_RASTER_Z_2021-11-08_18h05_18_414.tif\n",
      "E:\\a_new_orgs\\carleton\\hist5706-maryland\\lidar_files\\reprojected\\laz_utm_0-49\\20120203_17SQE0501_utm.laz\n",
      "E:\\a_new_orgs\\carleton\\hist5706-maryland\\lidar_files\\reprojected\\laz_utm_0-49\\20120203_17SQE0501_utm_2021-11-08_18h05_28_212.bin\n",
      "E:\\a_new_orgs\\carleton\\hist5706-maryland\\lidar_files\\reprojected\\laz_utm_0-49\\20120203_17SQE0501_utm_FILTERED_[1.1_2.1]_RASTER_Z_2021-11-08_18h05_31_070.tif\n",
      "45 E:\\a_new_orgs\\carleton\\hist5706-maryland\\lidar_files\\reprojected\\laz_utm_0-49\\20120203_17SQE0501_utm_FILTERED_[1.1_2.1]_RASTER_Z_2021-11-08_18h05_31_070.tif\n",
      "E:\\a_new_orgs\\carleton\\hist5706-maryland\\lidar_files\\reprojected\\laz_utm_0-49\\20120203_17SQE1701_utm.laz\n",
      "E:\\a_new_orgs\\carleton\\hist5706-maryland\\lidar_files\\reprojected\\laz_utm_0-49\\20120203_17SQE1701_utm_2021-11-08_18h05_44_643.bin\n",
      "E:\\a_new_orgs\\carleton\\hist5706-maryland\\lidar_files\\reprojected\\laz_utm_0-49\\20120203_17SQE1701_utm_FILTERED_[1.1_2.1]_RASTER_Z_2021-11-08_18h05_48_352.tif\n",
      "46 E:\\a_new_orgs\\carleton\\hist5706-maryland\\lidar_files\\reprojected\\laz_utm_0-49\\20120203_17SQE1701_utm_FILTERED_[1.1_2.1]_RASTER_Z_2021-11-08_18h05_48_352.tif\n",
      "E:\\a_new_orgs\\carleton\\hist5706-maryland\\lidar_files\\reprojected\\laz_utm_0-49\\20120203_17SQE1801_utm.laz\n",
      "E:\\a_new_orgs\\carleton\\hist5706-maryland\\lidar_files\\reprojected\\laz_utm_0-49\\20120203_17SQE1801_utm_2021-11-08_18h06_01_527.bin\n",
      "E:\\a_new_orgs\\carleton\\hist5706-maryland\\lidar_files\\reprojected\\laz_utm_0-49\\20120203_17SQE1801_utm_FILTERED_[1.1_2.1]_RASTER_Z_2021-11-08_18h06_05_307.tif\n",
      "47 E:\\a_new_orgs\\carleton\\hist5706-maryland\\lidar_files\\reprojected\\laz_utm_0-49\\20120203_17SQE1801_utm_FILTERED_[1.1_2.1]_RASTER_Z_2021-11-08_18h06_05_307.tif\n",
      "E:\\a_new_orgs\\carleton\\hist5706-maryland\\lidar_files\\reprojected\\laz_utm_0-49\\20120203_17SQE2001_utm.laz\n",
      "E:\\a_new_orgs\\carleton\\hist5706-maryland\\lidar_files\\reprojected\\laz_utm_0-49\\20120203_17SQE2001_utm_2021-11-08_18h06_17_979.bin\n",
      "E:\\a_new_orgs\\carleton\\hist5706-maryland\\lidar_files\\reprojected\\laz_utm_0-49\\20120203_17SQE2001_utm_FILTERED_[1.1_2.1]_RASTER_Z_2021-11-08_18h06_21_989.tif\n",
      "48 E:\\a_new_orgs\\carleton\\hist5706-maryland\\lidar_files\\reprojected\\laz_utm_0-49\\20120203_17SQE2001_utm_FILTERED_[1.1_2.1]_RASTER_Z_2021-11-08_18h06_21_989.tif\n",
      "E:\\a_new_orgs\\carleton\\hist5706-maryland\\lidar_files\\reprojected\\laz_utm_0-49\\20120203_17SQE2101_utm.laz\n",
      "E:\\a_new_orgs\\carleton\\hist5706-maryland\\lidar_files\\reprojected\\laz_utm_0-49\\20120203_17SQE2101_utm_2021-11-08_18h06_35_295.bin\n",
      "E:\\a_new_orgs\\carleton\\hist5706-maryland\\lidar_files\\reprojected\\laz_utm_0-49\\20120203_17SQE2101_utm_FILTERED_[1.1_2.1]_RASTER_Z_2021-11-08_18h06_39_497.tif\n",
      "49 E:\\a_new_orgs\\carleton\\hist5706-maryland\\lidar_files\\reprojected\\laz_utm_0-49\\20120203_17SQE2101_utm_FILTERED_[1.1_2.1]_RASTER_Z_2021-11-08_18h06_39_497.tif\n",
      "E:\\a_new_orgs\\carleton\\hist5706-maryland\\lidar_files\\reprojected\\laz_utm_0-49\\dem_tifs\n"
     ]
    }
   ],
   "source": [
    "import os\n",
    "import shutil\n",
    "# Divide files into groups of 200 so they can be downloaded and processed in managably sized chunks.\n",
    "file_counter = 0\n",
    "\n",
    "dem_tif_fp = \"E:\\\\a_new_orgs\\\\carleton\\\\hist5706-maryland\\\\lidar_files\\\\reprojected\\\\laz_utm_0-49\\\\\"\n",
    "dem_tif_fp_dest = \"E:\\\\a_new_orgs\\\\carleton\\\\hist5706-maryland\\\\lidar_files\\\\reprojected\\\\laz_utm_0-49\\\\dem_tifs\\\\\"\n",
    "\n",
    "for file_name in os.listdir(dem_tif_fp):\n",
    "    origin_file_path = os.path.join(dem_tif_fp,file_name)\n",
    "    print(origin_file_path)\n",
    "    if(os.path.isfile(origin_file_path)):  \n",
    "        if(origin_file_path[-4:]==\".tif\"):\n",
    "            shutil.copy(origin_file_path, os.path.join(dem_tif_fp_dest,(file_name[:22]+\".tif\")))\n",
    "            print(file_counter, origin_file_path)\n",
    "            file_counter = file_counter + 1        "
   ]
  },
  {
   "cell_type": "code",
   "execution_count": 5,
   "metadata": {},
   "outputs": [
    {
     "name": "stdout",
     "output_type": "stream",
     "text": [
      "20120203_17SQD2798_utm\n"
     ]
    }
   ],
   "source": [
    "fn = \"20120203_17SQD2798_utm_FILTERED_[1.1_2.1]_RASTER_Z_2021-11-08_18h04_32_409.tif\"\n",
    "print(fn[:22])"
   ]
  },
  {
   "cell_type": "markdown",
   "metadata": {},
   "source": [
    "# Set crs of raster - Not yet working"
   ]
  },
  {
   "cell_type": "code",
   "execution_count": 19,
   "metadata": {},
   "outputs": [
    {
     "ename": "ModuleNotFoundError",
     "evalue": "No module named 'rasterio'",
     "output_type": "error",
     "traceback": [
      "\u001b[1;31m---------------------------------------------------------------------------\u001b[0m",
      "\u001b[1;31mModuleNotFoundError\u001b[0m                       Traceback (most recent call last)",
      "\u001b[1;32m<ipython-input-19-f06960f2ca3a>\u001b[0m in \u001b[0;36m<module>\u001b[1;34m()\u001b[0m\n\u001b[0;32m      1\u001b[0m \u001b[1;32mimport\u001b[0m \u001b[0msubprocess\u001b[0m\u001b[1;33m\u001b[0m\u001b[1;33m\u001b[0m\u001b[0m\n\u001b[0;32m      2\u001b[0m \u001b[1;32mimport\u001b[0m \u001b[0mtime\u001b[0m\u001b[1;33m\u001b[0m\u001b[1;33m\u001b[0m\u001b[0m\n\u001b[1;32m----> 3\u001b[1;33m \u001b[1;32mimport\u001b[0m \u001b[0mrasterio\u001b[0m\u001b[1;33m\u001b[0m\u001b[1;33m\u001b[0m\u001b[0m\n\u001b[0m\u001b[0;32m      4\u001b[0m \u001b[1;33m\u001b[0m\u001b[0m\n\u001b[0;32m      5\u001b[0m \u001b[1;31m# example command\u001b[0m\u001b[1;33m\u001b[0m\u001b[1;33m\u001b[0m\u001b[1;33m\u001b[0m\u001b[0m\n",
      "\u001b[1;31mModuleNotFoundError\u001b[0m: No module named 'rasterio'"
     ]
    }
   ],
   "source": [
    "import subprocess\n",
    "import time\n",
    "import rasterio\n",
    "\n",
    "# example command\n",
    "# C:\\LAStools\\bin\\las2las -i \"E:\\a_new_orgs\\carleton\\hist5706-maryland\\lidar_files\\20120323_001460.laz\" -target_utm 18north -o \"E:\\a_new_orgs\\carleton\\hist5706-maryland\\lidar_files\\reprojected\\20120323_001460_r_utm.laz\"\n",
    "\n",
    "\n",
    "input_raster_fp = \"E:\\\\a_new_orgs\\\\carleton\\\\hist5706-maryland\\\\lidar_files\\\\reprojected\\\\\"\n",
    "output_raster_fp = \"E:\\\\a_new_orgs\\\\carleton\\\\hist5706-maryland\\\\lidar_files\\\\rasters\\\\\"\n",
    "\n",
    "\n",
    "# Set crs\n",
    "import os\n",
    "#process .tif files one at a time\n",
    "for root, dirs, files in os.walk(input_raster_fp, topdown=False):\n",
    "   for name in files:      \n",
    "      #print(name)\n",
    "      name_ext = name[-4:].lower()\n",
    "      if(name_ext==\".tif\"):\n",
    "          tif_out_path = os.path.join(input_raster_fp, name)\n",
    "          tif_in_path = os.path.join(output_raster_fp, (name[:19]+\"26918\"+name_ext))\n",
    "          with rasterio.open(tif_in_path, \"w\", crs='EPSG:26918') as dest:\n",
    "              dest.write(out_image)         \n",
    "          #command = 'gdal_edit.bat -a_srs EPSG:26985 \"' + tif_in_path + '\"'\n",
    "                    \n",
    "          #print(\"!\"+command)\n",
    "          #subprocess.call(command, shell=True)\n",
    "          # just in case, let the sub process run\n",
    "          time.sleep(4)            "
   ]
  },
  {
   "cell_type": "code",
   "execution_count": 20,
   "metadata": {},
   "outputs": [
    {
     "name": "stderr",
     "output_type": "stream",
     "text": [
      "'gdal_edit.bat' is not recognized as an internal or external command,\n",
      "operable program or batch file.\n"
     ]
    }
   ],
   "source": [
    "!gdal_edit.bat -a_srs EPSG:26985 \"E:\\a_new_orgs\\carleton\\hist5706-maryland\\lidar_files\\reprojected\\20120203_17SPD7277_utm_FILTERED_[1.1_2.1]_RASTER_Z_2021-10-30_16h50_37_125.tif\""
   ]
  },
  {
   "cell_type": "markdown",
   "metadata": {},
   "source": [
    "# Make slope file - Not yet working"
   ]
  },
  {
   "cell_type": "code",
   "execution_count": 16,
   "metadata": {},
   "outputs": [
    {
     "name": "stdout",
     "output_type": "stream",
     "text": [
      "!\"E:\\Program Files\\QGIS 3.10\\bin\\gdaldem\" slope \"E:\\a_new_orgs\\carleton\\hist5706-maryland\\lidar_files\\reprojected\\20120203_17SPD7277_utm_FILTERED_[1.1_2.1]_RASTER_Z_2021-10-30_16h50_37_125.tif\" \"E:\\a_new_orgs\\carleton\\hist5706-maryland\\lidar_files\\slope\\20120203_17SPD7277_utm_FILTERED_[1.1_2.1]_RASTER_Z_2021-10-30_16h50_37_125_slope.tif\" -of GTiff -b 1 -s 1.0\n"
     ]
    }
   ],
   "source": [
    "import subprocess\n",
    "import time\n",
    "\n",
    "# example command\n",
    "# gdaldem slope E:\\a_new_orgs\\carleton\\hist5706-maryland\\lidar_files\\reprojected\\20120203_17SPD7277_utm_FILTERED_[1.1_2.1]_RASTER_Z_2021-10-30_16h50_37_125.tif \n",
    "# C:/Users/User/AppData/Local/Temp/processing_QIEzpg/6c1743fc49544eba9ae8c25d891f86e8/OUTPUT.tif\n",
    "# -of GTiff -b 1 -s 1.0\n",
    "\n",
    "\n",
    "input_raster_fp = \"E:\\\\a_new_orgs\\\\carleton\\\\hist5706-maryland\\\\lidar_files\\\\reprojected\\\\\"\n",
    "output_slope_fp = \"E:\\\\a_new_orgs\\\\carleton\\\\hist5706-maryland\\\\lidar_files\\\\slope\\\\\"\n",
    "\n",
    "\n",
    "# Set crs\n",
    "import os\n",
    "#process .tif files one at a time\n",
    "for root, dirs, files in os.walk(input_raster_fp, topdown=False):\n",
    "   for name in files:      \n",
    "      #print(name)\n",
    "      name_ext = name[-4:].lower()\n",
    "      if(name_ext==\".tif\"):\n",
    "          tif_in_path = os.path.join(input_raster_fp, name)\n",
    "          slope_out_path = os.path.join(output_slope_fp, (name[:-4]+\"_slope\"+name_ext))\n",
    "        \n",
    "          #command = '\"C:\\\\Program Files\\\\QGIS 3.16\\\\bin\\\\gdaldem.exe\" slope \"' + tif_in_path + '\" \"' + slope_out_path + \" -of GTiff -b 1 -s 1.0\"\n",
    "          command = '\"E:\\\\Program Files\\\\QGIS 3.10\\\\bin\\\\gdaldem\" slope \"' + tif_in_path + '\" \"' + slope_out_path + '\" -of GTiff -b 1 -s 1.0'\n",
    "            \n",
    "            \n",
    "                    \n",
    "          print(\"!\"+command)\n",
    "          subprocess.call(command, shell=True)\n",
    "          # just in case, let the sub process run\n",
    "          time.sleep(4)  "
   ]
  },
  {
   "cell_type": "code",
   "execution_count": 11,
   "metadata": {},
   "outputs": [
    {
     "name": "stdout",
     "output_type": "stream",
     "text": [
      "0...10...20...30...40...50...60...70...80...90...100 - done.\n"
     ]
    }
   ],
   "source": [
    "!\"E:\\\\Program Files\\\\QGIS 3.10\\\\bin\\\\gdaldem\" slope \"E:\\\\a_new_orgs\\\\carleton\\\\hist5706-maryland\\\\lidar_files\\\\reprojected\\\\20120203_17SPD7277_utm_FILTERED_[1.1_2.1]_RASTER_Z_2021-10-30_16h50_37_125.tif\" \"E:\\\\a_new_orgs\\\\carleton\\\\hist5706-maryland\\\\lidar_files\\\\slope\\\\20120203_17SPD7277_utm_FILTERED_[1.1_2.1]_RASTER_Z_2021-10-30_16h50_37_125_slope.tif\" -of GTiff -b 1 -s 1.0\n"
   ]
  },
  {
   "cell_type": "code",
   "execution_count": 15,
   "metadata": {},
   "outputs": [
    {
     "name": "stdout",
     "output_type": "stream",
     "text": [
      "0...10...20...30...40...50...60...70...80...90...100 - done.\n"
     ]
    }
   ],
   "source": [
    "!\"E:\\\\Program Files\\\\QGIS 3.10\\\\bin\\\\gdaldem\" slope \"E:\\\\a_new_orgs\\\\carleton\\\\hist5706-maryland\\\\lidar_files\\\\reprojected\\\\20120203_17SPD7277_utm_FILTERED_[1.1_2.1]_RASTER_Z_2021-10-30_16h50_37_125.tif\" \"E:\\\\a_new_orgs\\\\carleton\\\\hist5706-maryland\\\\lidar_files\\\\slope\\\\20120203_17SPD7277_utm_FILTERED_[1.1_2.1]_RASTER_Z_2021-10-30_16h50_37_125_slope.tif\" -of GTiff -b 1 -s 1.0"
   ]
  },
  {
   "cell_type": "code",
   "execution_count": 1,
   "metadata": {},
   "outputs": [
    {
     "ename": "ModuleNotFoundError",
     "evalue": "No module named 'geopandas'",
     "output_type": "error",
     "traceback": [
      "\u001b[1;31m---------------------------------------------------------------------------\u001b[0m",
      "\u001b[1;31mModuleNotFoundError\u001b[0m                       Traceback (most recent call last)",
      "\u001b[1;32m<ipython-input-1-06532cd3b389>\u001b[0m in \u001b[0;36m<module>\u001b[1;34m()\u001b[0m\n\u001b[0;32m      1\u001b[0m \u001b[1;32mimport\u001b[0m \u001b[0mos\u001b[0m\u001b[1;33m\u001b[0m\u001b[1;33m\u001b[0m\u001b[0m\n\u001b[1;32m----> 2\u001b[1;33m \u001b[1;32mimport\u001b[0m \u001b[0mgeopandas\u001b[0m \u001b[1;32mas\u001b[0m \u001b[0mgpd\u001b[0m\u001b[1;33m\u001b[0m\u001b[1;33m\u001b[0m\u001b[0m\n\u001b[0m\u001b[0;32m      3\u001b[0m \u001b[1;33m\u001b[0m\u001b[0m\n\u001b[0;32m      4\u001b[0m \u001b[0mlidar_tiles_forested_polys_fp\u001b[0m \u001b[1;33m=\u001b[0m \u001b[1;34m\"E:\\\\a_new_orgs\\\\carleton\\\\hist5706-maryland\\\\hist5706-maryland\\\\fema_forested\\\\2012_fema_md_forested.shp\"\u001b[0m\u001b[1;33m\u001b[0m\u001b[1;33m\u001b[0m\u001b[0m\n\u001b[0;32m      5\u001b[0m \u001b[1;33m\u001b[0m\u001b[0m\n",
      "\u001b[1;31mModuleNotFoundError\u001b[0m: No module named 'geopandas'"
     ]
    }
   ],
   "source": [
    "import os\n",
    "import geopandas as gpd\n",
    "\n",
    "lidar_tiles_forested_polys_fp = \"E:\\\\a_new_orgs\\\\carleton\\\\hist5706-maryland\\\\hist5706-maryland\\\\fema_forested\\\\2012_fema_md_forested.shp\"\n",
    "\n",
    "\"\"\"\n",
    "# Create an empty geopandas GeoDataFrame for duplicates\n",
    "lidar_tiles_forested_polys_df = gpd.GeoDataFrame()\n",
    "lidar_tiles_forested_polys_df['Index'] = None\n",
    "lidar_tiles_forested_polys_df['Name'] = None\n",
    "lidar_tiles_forested_polys_df['URL'] = None\n",
    "lidar_tiles_forested_polys_df['geometry'] = None\n",
    "\"\"\"\n",
    "\n",
    "lidar_tiles_forested_polys_df.crs = ('EPSG:26985')\n",
    "\n",
    "if os.path.exists(lidar_tiles_forested_polys_fp):\n",
    "    lidar_tiles_forested_polys = gpd.read_file(lidar_tiles_forested_polys_fp)\n",
    "    \n",
    "    print(\"crs\", lidar_tiles_forested_polys.crs)\n",
    "    print(type(lidar_tiles_forested_polys))\n",
    "\n",
    "    print(\"lidar_tiles_forested_polys\",lidar_tiles_forested_polys.shape)\n",
    "    # crs for Maryland\n",
    "    area_crs = 26985\n",
    "    land_use_polys.to_crs(area_crs)\n",
    "\n",
    "    for index, row in lidar_tiles_forested_polys.iterrows():\n",
    "       #print(\"row\",row)\n",
    "\n",
    "       print(row[1],row[2],row[3])"
   ]
  },
  {
   "cell_type": "code",
   "execution_count": null,
   "metadata": {},
   "outputs": [],
   "source": []
  }
 ],
 "metadata": {
  "kernelspec": {
   "display_name": "Python 3",
   "language": "python",
   "name": "python3"
  },
  "language_info": {
   "codemirror_mode": {
    "name": "ipython",
    "version": 3
   },
   "file_extension": ".py",
   "mimetype": "text/x-python",
   "name": "python",
   "nbconvert_exporter": "python",
   "pygments_lexer": "ipython3",
   "version": "3.7.4"
  }
 },
 "nbformat": 4,
 "nbformat_minor": 2
}
