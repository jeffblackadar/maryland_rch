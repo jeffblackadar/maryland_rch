{
  "nbformat": 4,
  "nbformat_minor": 0,
  "metadata": {
    "colab": {
      "name": "3_run_predictions_using_model.ipynb",
      "provenance": [],
      "collapsed_sections": []
    },
    "kernelspec": {
      "display_name": "Python 3",
      "name": "python3"
    }
  },
  "cells": [
    {
      "cell_type": "code",
      "metadata": {
        "colab": {
          "base_uri": "https://localhost:8080/"
        },
        "id": "OmPZ7xTnE5Tq",
        "outputId": "c553b263-a254-4e1e-8d89-95f9456edbdd"
      },
      "source": [
        "from google.colab import drive\n",
        "drive.mount('/content/drive')"
      ],
      "execution_count": null,
      "outputs": [
        {
          "output_type": "stream",
          "name": "stdout",
          "text": [
            "Mounted at /content/drive\n"
          ]
        }
      ]
    },
    {
      "cell_type": "code",
      "metadata": {
        "colab": {
          "base_uri": "https://localhost:8080/"
        },
        "id": "4OyFqwMTVowF",
        "outputId": "0f6b1eba-56d1-4bb4-9b64-26acba9da798"
      },
      "source": [
        "%cd /content/drive/MyDrive/crane_maryland\n",
        "!mkdir /content/drive/MyDrive/crane_maryland/mask-rcnn-repository"
      ],
      "execution_count": null,
      "outputs": [
        {
          "output_type": "stream",
          "name": "stdout",
          "text": [
            "/content/drive/MyDrive/crane_maryland\n",
            "mkdir: cannot create directory ‘/content/drive/MyDrive/crane_maryland/mask-rcnn-repository’: File exists\n"
          ]
        }
      ]
    },
    {
      "cell_type": "code",
      "metadata": {
        "id": "uFz9hNjyWtT0"
      },
      "source": [
        "!mkdir /content/drive/MyDrive/crane_maryland/predictions"
      ],
      "execution_count": null,
      "outputs": []
    },
    {
      "cell_type": "code",
      "metadata": {
        "id": "J1jByQzbf9Sk"
      },
      "source": [
        "!mkdir /content/drive/MyDrive/crane_maryland/polys"
      ],
      "execution_count": null,
      "outputs": []
    },
    {
      "cell_type": "code",
      "metadata": {
        "colab": {
          "base_uri": "https://localhost:8080/"
        },
        "id": "ySDkvobMEyxu",
        "outputId": "576bfdc8-4d69-4db7-eb15-97ae2fd93144"
      },
      "source": [
        "%cd /content/drive/MyDrive/crane_maryland/mask-rcnn-repository"
      ],
      "execution_count": 9,
      "outputs": [
        {
          "output_type": "stream",
          "name": "stdout",
          "text": [
            "/content/drive/MyDrive/crane_maryland/mask-rcnn-repository\n"
          ]
        }
      ]
    },
    {
      "cell_type": "code",
      "metadata": {
        "colab": {
          "base_uri": "https://localhost:8080/"
        },
        "id": "qu6MXd3gFcna",
        "outputId": "cff7e7ff-1d50-4c40-e9b8-bf2767a4ec39"
      },
      "source": [
        "!git clone https://github.com/matterport/Mask_RCNN.git\n",
        "\n"
      ],
      "execution_count": null,
      "outputs": [
        {
          "output_type": "stream",
          "name": "stdout",
          "text": [
            "fatal: destination path 'Mask_RCNN' already exists and is not an empty directory.\n"
          ]
        }
      ]
    },
    {
      "cell_type": "code",
      "metadata": {
        "id": "KhFyZXpJH7xH",
        "colab": {
          "base_uri": "https://localhost:8080/"
        },
        "outputId": "ce8bdc04-dbac-4c79-9ecb-2cd46474f379"
      },
      "source": [
        "#Thanks to https://emadehsan.com/p/object-detection\n",
        "%cd /content/drive/MyDrive/crane_maryland/mask-rcnn-repository/Mask_RCNN\n",
        "!python setup.py install "
      ],
      "execution_count": 10,
      "outputs": [
        {
          "output_type": "stream",
          "name": "stdout",
          "text": [
            "/content/drive/MyDrive/crane_maryland/mask-rcnn-repository/Mask_RCNN\n",
            "WARNING:root:Fail load requirements file, so using default ones.\n",
            "/usr/local/lib/python3.7/dist-packages/setuptools/dist.py:700: UserWarning: Usage of dash-separated 'description-file' will not be supported in future versions. Please use the underscore name 'description_file' instead\n",
            "  % (opt, underscore_opt))\n",
            "/usr/local/lib/python3.7/dist-packages/setuptools/dist.py:700: UserWarning: Usage of dash-separated 'license-file' will not be supported in future versions. Please use the underscore name 'license_file' instead\n",
            "  % (opt, underscore_opt))\n",
            "/usr/local/lib/python3.7/dist-packages/setuptools/dist.py:700: UserWarning: Usage of dash-separated 'requirements-file' will not be supported in future versions. Please use the underscore name 'requirements_file' instead\n",
            "  % (opt, underscore_opt))\n",
            "running install\n",
            "running bdist_egg\n",
            "running egg_info\n",
            "writing mask_rcnn.egg-info/PKG-INFO\n",
            "writing dependency_links to mask_rcnn.egg-info/dependency_links.txt\n",
            "writing top-level names to mask_rcnn.egg-info/top_level.txt\n",
            "reading manifest template 'MANIFEST.in'\n",
            "adding license file 'LICENSE'\n",
            "writing manifest file 'mask_rcnn.egg-info/SOURCES.txt'\n",
            "installing library code to build/bdist.linux-x86_64/egg\n",
            "running install_lib\n",
            "running build_py\n",
            "creating build/bdist.linux-x86_64/egg\n",
            "creating build/bdist.linux-x86_64/egg/mrcnn\n",
            "copying build/lib/mrcnn/visualize.py -> build/bdist.linux-x86_64/egg/mrcnn\n",
            "copying build/lib/mrcnn/parallel_model.py -> build/bdist.linux-x86_64/egg/mrcnn\n",
            "copying build/lib/mrcnn/utils.py -> build/bdist.linux-x86_64/egg/mrcnn\n",
            "copying build/lib/mrcnn/config.py -> build/bdist.linux-x86_64/egg/mrcnn\n",
            "copying build/lib/mrcnn/__init__.py -> build/bdist.linux-x86_64/egg/mrcnn\n",
            "copying build/lib/mrcnn/model.py -> build/bdist.linux-x86_64/egg/mrcnn\n",
            "byte-compiling build/bdist.linux-x86_64/egg/mrcnn/visualize.py to visualize.cpython-37.pyc\n",
            "byte-compiling build/bdist.linux-x86_64/egg/mrcnn/parallel_model.py to parallel_model.cpython-37.pyc\n",
            "byte-compiling build/bdist.linux-x86_64/egg/mrcnn/utils.py to utils.cpython-37.pyc\n",
            "byte-compiling build/bdist.linux-x86_64/egg/mrcnn/config.py to config.cpython-37.pyc\n",
            "byte-compiling build/bdist.linux-x86_64/egg/mrcnn/__init__.py to __init__.cpython-37.pyc\n",
            "byte-compiling build/bdist.linux-x86_64/egg/mrcnn/model.py to model.cpython-37.pyc\n",
            "creating build/bdist.linux-x86_64/egg/EGG-INFO\n",
            "copying mask_rcnn.egg-info/PKG-INFO -> build/bdist.linux-x86_64/egg/EGG-INFO\n",
            "copying mask_rcnn.egg-info/SOURCES.txt -> build/bdist.linux-x86_64/egg/EGG-INFO\n",
            "copying mask_rcnn.egg-info/dependency_links.txt -> build/bdist.linux-x86_64/egg/EGG-INFO\n",
            "copying mask_rcnn.egg-info/top_level.txt -> build/bdist.linux-x86_64/egg/EGG-INFO\n",
            "zip_safe flag not set; analyzing archive contents...\n",
            "creating 'dist/mask_rcnn-2.1-py3.7.egg' and adding 'build/bdist.linux-x86_64/egg' to it\n",
            "removing 'build/bdist.linux-x86_64/egg' (and everything under it)\n",
            "Processing mask_rcnn-2.1-py3.7.egg\n",
            "Removing /usr/local/lib/python3.7/dist-packages/mask_rcnn-2.1-py3.7.egg\n",
            "Copying mask_rcnn-2.1-py3.7.egg to /usr/local/lib/python3.7/dist-packages\n",
            "mask-rcnn 2.1 is already the active version in easy-install.pth\n",
            "\n",
            "Installed /usr/local/lib/python3.7/dist-packages/mask_rcnn-2.1-py3.7.egg\n",
            "Processing dependencies for mask-rcnn==2.1\n",
            "Finished processing dependencies for mask-rcnn==2.1\n"
          ]
        }
      ]
    },
    {
      "cell_type": "code",
      "metadata": {
        "colab": {
          "base_uri": "https://localhost:8080/"
        },
        "id": "mctx_SheYWZF",
        "outputId": "4188059b-27a0-4372-ff33-e214bbac1b13"
      },
      "source": [
        "!pip install 'h5py<3.0.0'"
      ],
      "execution_count": 11,
      "outputs": [
        {
          "output_type": "stream",
          "name": "stdout",
          "text": [
            "Requirement already satisfied: h5py<3.0.0 in /usr/local/lib/python3.7/dist-packages (2.10.0)\n",
            "Requirement already satisfied: six in /usr/local/lib/python3.7/dist-packages (from h5py<3.0.0) (1.15.0)\n",
            "Requirement already satisfied: numpy>=1.7 in /usr/local/lib/python3.7/dist-packages (from h5py<3.0.0) (1.19.5)\n"
          ]
        }
      ]
    },
    {
      "cell_type": "code",
      "metadata": {
        "id": "wC-ajugrIXgs",
        "colab": {
          "base_uri": "https://localhost:8080/"
        },
        "outputId": "436147aa-ee11-4f05-82b4-b807f1b93711"
      },
      "source": [
        "import os\n",
        "# Root directory of the project\n",
        "ROOT_DIR = os.path.abspath(\"./content/drive/MyDrive/crane_maryland/mask-rcnn-repository/Mask_RCNN\")\n",
        "\n",
        "# Import Mask RCNN\n",
        "!sys.path.append(ROOT_DIR)"
      ],
      "execution_count": 12,
      "outputs": [
        {
          "output_type": "stream",
          "name": "stdout",
          "text": [
            "/bin/bash: -c: line 0: syntax error near unexpected token `ROOT_DIR'\n",
            "/bin/bash: -c: line 0: `sys.path.append(ROOT_DIR)'\n"
          ]
        }
      ]
    },
    {
      "cell_type": "code",
      "metadata": {
        "id": "qtvaW1STHCsI"
      },
      "source": [
        "# Write Annot\n",
        "def write_annot(obj_type, obj_annots_dir, obj_f_num, org_f_name, org_f_path,org_f_width,org_f_height,org_f_depth, refPts, scores):\n",
        "    # With credit to: \n",
        "    # https://www.geeksforgeeks.org/reading-writing-text-files-python/\n",
        "    annot_file_path = obj_annots_dir+obj_f_num+'.xml'\n",
        "    annot_file = open(annot_file_path,\"w\") \n",
        "\n",
        "    annot_file.write(\"<annotation>\\n\") \n",
        "    annot_file.write(\"\t<folder>\"+obj_type+\"</folder>\\n\") \n",
        "    annot_file.write(\"\t<filename>\"+org_f_name+\"</filename>\\n\") \n",
        "    annot_file.write(\"\t<path>\"+org_f_path+\"</path>\\n\") \n",
        "    annot_file.write(\"\t<source>\\n\") \n",
        "    annot_file.write(\"\t\t<database>Muhlenberg_charcoal_hearths</database>\\n\") \n",
        "    annot_file.write(\"\t</source>\\n\") \n",
        "    annot_file.write(\"\t<size>\\n\") \n",
        "    annot_file.write(\"\t\t<width>\"+str(org_f_width)+\"</width>\\n\") \n",
        "    annot_file.write(\"\t\t<height>\"+str(org_f_height)+\"</height>\\n\") \n",
        "    annot_file.write(\"\t\t<depth>\"+str(org_f_depth)+\"</depth>\\n\") \n",
        "    annot_file.write(\"\t</size>\\n\")\n",
        "    annot_file.write(\"\t<!-- <object_present>0 = the object is not present in the image. 1 = it is -->\\n\")\n",
        "    annot_file.write(\"\t<object_present>0</object_present>\\n\")    \n",
        "    for ocn in range(0,len(refPts)):\n",
        "        refPt = refPts[ocn]\n",
        "        refPtMin = refPt[0]\n",
        "        refPtMax = refPt[1]\n",
        "        annot_file.write(\"\t<object>\\n\") \n",
        "        annot_file.write(\"\t\t<name>\"+obj_type+\"</name>\\n\") \n",
        "        annot_file.write(\"\t\t<number>\"+str(ocn)+\"</number>\\n\") \n",
        "        annot_file.write(\"\t\t<score>\"+str(scores[ocn])+\"</score>\\n\")\n",
        "        annot_file.write(\"\t\t<correct>0</correct>\\n\")\n",
        "        annot_file.write(\"\t\t<bndbox>\\n\") \n",
        "        annot_file.write(\"\t\t\t<xmin>\"+str(refPtMin[0])+\"</xmin>\\n\") \n",
        "        annot_file.write(\"\t\t\t<ymin>\"+str(refPtMin[1])+\"</ymin>\\n\") \n",
        "        annot_file.write(\"\t\t\t<xmax>\"+str(refPtMax[0])+\"</xmax>\\n\") \n",
        "        annot_file.write(\"\t\t\t<ymax>\"+str(refPtMax[1])+\"</ymax>\\n\") \n",
        "        annot_file.write(\"\t\t</bndbox>\\n\") \n",
        "        annot_file.write(\"\t</object>\\n\") \n",
        "    annot_file.write(\"</annotation>\\n\") \n",
        "    annot_file.close()\n",
        "\n"
      ],
      "execution_count": 13,
      "outputs": []
    },
    {
      "cell_type": "code",
      "metadata": {
        "id": "3MRtgvq4VV1i",
        "colab": {
          "base_uri": "https://localhost:8080/"
        },
        "outputId": "12c4f4f5-f697-4648-b166-a295ae787016"
      },
      "source": [
        "%tensorflow_version 1.x\n",
        "import tensorflow as tf\n",
        "import keras\n",
        "import skimage\n",
        "print(tf.__version__)\n",
        "print(keras.__version__) # == 2.2.4\n",
        "#Tensorflow-gpu version #== 1.12.0\n",
        "print(skimage.__version__) # == 0.14.2\n"
      ],
      "execution_count": 14,
      "outputs": [
        {
          "output_type": "stream",
          "name": "stdout",
          "text": [
            "1.15.2\n",
            "2.3.1\n",
            "0.16.2\n"
          ]
        }
      ]
    },
    {
      "cell_type": "code",
      "metadata": {
        "id": "bz-PJz3AA_W8"
      },
      "source": [
        "#Convert tifs to jpgs \n",
        "import gdal\n",
        "import numpy as np\n",
        "import gdalnumeric\n",
        "import os\n",
        "\n",
        "def tif_to_jpg(tif_file, output_file_name, output_folder):\n",
        "    #print(tif_file,output_file_name, output_folder)\n",
        "    ds = gdal.Open(tif_file)\n",
        "    #geoTrans = srcImage.GetGeoTransform()\n",
        "    band = ds.GetRasterBand(1)\n",
        "    width = ds.RasterXSize\n",
        "    height = ds.RasterYSize\n",
        "\n",
        "    data = band.ReadAsArray(0, 0, width, height)\n",
        "    #convert all the bad data\n",
        "    data[data==-9999.0] = 0\n",
        "    max_value = np.max(data)\n",
        "    color_multiplier = 255/(max_value-1)\n",
        "    #print(color_multiplier)\n",
        "    data = data*color_multiplier\n",
        "    #print(data)\n",
        "    data_int = np.array(data, dtype='int')\n",
        "    #print(data_int)\n",
        "    #clip = ds.readasarray(ds)\n",
        "    data_int = data_int.astype(gdalnumeric.numpy.uint8)\n",
        "    \n",
        "    print(os.path.join(output_folder,(output_file_name)))\n",
        "    gdalnumeric.SaveArray(data_int, os.path.join(output_folder,(output_file_name)), format=\"JPEG\")\n",
        "\n",
        "\n",
        "tif_images_dir_in = '/content/drive/MyDrive/crane_maryland/slope_images/slope_0-199/'\n",
        "jpg_images_dir_out = '/content/drive/MyDrive/crane_maryland/slope_images/slope_0-199/jpgs/'\n",
        "\n",
        "if not (os.path.exists(jpg_images_dir_out)):  \n",
        "    print(\"Does not exist.\")\n",
        "    os.mkdir(jpg_images_dir_out)\n",
        "else:\n",
        "    print(jpg_images_dir_out, \" Exists.\")\n",
        "\n",
        "#tif_to_jpg('/content/drive/MyDrive/crane_maryland/predictions/project_2021_nov_13/slope_tifs/slope_20120131_17SQD2093_utm.tif', '17SQD2093_utm.jpg', '/content/drive/MyDrive/crane_maryland/predictions/project_2021_nov_13/jpgs/')\n",
        "\n",
        "# find all images\n",
        "counter = 0\n",
        "for filename in os.listdir(tif_images_dir_in):\n",
        "    # extract image id\n",
        "    image_id = filename[:-4]\n",
        "    ext = filename[-4:]\n",
        "\n",
        "    if(ext ==\".tif\"):\n",
        "        print(counter, filename)\n",
        "        img_path = os.path.join(tif_images_dir_in, filename)\n",
        "        tif_to_jpg(img_path, (filename[:28]+\".jpg\"), jpg_images_dir_out)\n",
        "        \n",
        "        counter = counter + 1"
      ],
      "execution_count": null,
      "outputs": []
    },
    {
      "cell_type": "markdown",
      "metadata": {
        "id": "5aw_eWELqW_u"
      },
      "source": [
        "# Quality Assurance: Confirm we have 200 slope tifs and 200 DEM slope jpgs with matching file names."
      ]
    },
    {
      "cell_type": "code",
      "metadata": {
        "colab": {
          "base_uri": "https://localhost:8080/"
        },
        "id": "mUKhkBxyqVrH",
        "outputId": "8a127a16-086f-475e-9e46-0b72f05e83d7"
      },
      "source": [
        "\n",
        "# Dictionary of slope_tifs\n",
        "slope_tifs_fp = '/content/drive/MyDrive/crane_maryland/slope_images/slope_0-199/'\n",
        "slope_jpgs_fp = '/content/drive/MyDrive/crane_maryland/slope_images/slope_0-199/jpgs/'\n",
        "\n",
        "slope_tifs_dict = {}\n",
        "for file_name in os.listdir(slope_tifs_fp):\n",
        "    origin_file_path = os.path.join(slope_tifs_fp,file_name)\n",
        "    #print(origin_file_path)\n",
        "    if(os.path.isfile(origin_file_path)):  \n",
        "        if(origin_file_path[-4:]==\".tif\"):\n",
        "            # be careful comparing a partial filename\n",
        "            slope_tifs_dict[file_name[:28]]=file_name\n",
        "\n",
        "\n",
        "# Dictionary of tifs\n",
        "slope_jpgs_dict = {}\n",
        "for file_name in os.listdir(slope_jpgs_fp):\n",
        "    origin_file_path = os.path.join(slope_jpgs_fp,file_name)\n",
        "    #print(origin_file_path)\n",
        "    if(os.path.isfile(origin_file_path)):  \n",
        "        if(origin_file_path[-4:]==\".jpg\"):\n",
        "            # be careful comparing a partial filename\n",
        "            slope_jpgs_dict[file_name[:28]]=file_name\n",
        "#print(tifs_dict)\n",
        "\n",
        "print(\"There are: \",len(slope_tifs_dict),\" tif files in \", slope_tifs_fp)\n",
        "for dict_key in slope_tifs_dict:\n",
        "    if not dict_key in slope_jpgs_dict:\n",
        "        print(dict_key, \" (laz) is not in tifs directory.\")\n",
        "\n",
        "print(\"There are: \",len(slope_jpgs_dict),\" jpg files in \", slope_jpgs_fp)\n",
        "for dict_key in slope_jpgs_dict:\n",
        "    if not dict_key in slope_tifs_dict:\n",
        "        print(dict_key, \" (tif) is not in jpgs directory.\")\n",
        "\n",
        "prediction_folder_fp = '/content/drive/MyDrive/crane_maryland/predictions/project_2021_nov_14/cfg20200826T2315/unknown/'\n",
        "\n",
        "xmls_dict = {}\n",
        "for file_name in os.listdir(prediction_folder_fp):\n",
        "    origin_file_path = os.path.join(prediction_folder_fp,file_name)\n",
        "    #print(origin_file_path)\n",
        "    if(os.path.isfile(origin_file_path)):  \n",
        "        if(origin_file_path[-4:]==\".xml\"):\n",
        "            # be careful comparing a partial filename\n",
        "            xmls_dict[file_name[:28]]=file_name\n",
        "\n",
        "print(\"There are: \",len(xmls_dict),\" xml files in \", prediction_folder_fp)\n",
        "for dict_key in xmls_dict:\n",
        "    if not dict_key in slope_jpgs_dict:\n",
        "        print(dict_key, \" (xml) is not in jpgs directory.\")\n",
        "\n",
        "#print(\"There are: \",len(slope_jpgs_dict),\" jpg files in \", slope_jpgs_fp)\n",
        "for dict_key in slope_jpgs_dict:\n",
        "    if not dict_key in xmls_dict:\n",
        "        print(dict_key, \" (jpg) is not in xmls directory.\")\n"
      ],
      "execution_count": 30,
      "outputs": [
        {
          "output_type": "stream",
          "name": "stdout",
          "text": [
            "There are:  200  tif files in  /content/drive/MyDrive/crane_maryland/slope_images/slope_0-199/\n",
            "There are:  200  jpg files in  /content/drive/MyDrive/crane_maryland/slope_images/slope_0-199/jpgs/\n",
            "There are:  200  xml files in  /content/drive/MyDrive/crane_maryland/predictions/project_2021_nov_14/cfg20200826T2315/unknown/\n"
          ]
        }
      ]
    },
    {
      "cell_type": "code",
      "metadata": {
        "id": "-ct1EziNGCDp"
      },
      "source": [
        "# Predict it for all the images\n",
        "# Run Predict Config and Write Annot before running this cell.\n",
        "cfg_name='cfg20200826T2315'\n",
        "model_epoch='0016'\n",
        "object_type = \"charcoal_hearth_hill\"\n",
        "\n",
        "print(\"cfg_name:\",cfg_name)\n",
        "\n",
        "#For all of the jpegs, run prediction\n",
        "\n",
        "#images_dir\n",
        "# Run on all images - produce results for analysis.\n",
        "# images_dir = '/content/drive/MyDrive/crane_maryland/tif/tif_tiles/jpgs'\n",
        "\n",
        "# 2021 Nov 13\n",
        "#images_dir = '/content/drive/MyDrive/crane_maryland/predictions/project_2021_nov_13/jpgs/'\n",
        "\n",
        "images_dir = '/content/drive/MyDrive/crane_maryland/slope_images/slope_0-199/jpgs/'\n",
        "\n",
        "import os\n",
        "from os import listdir\n",
        "import skimage\n",
        "import cv2\n",
        "from xml.etree import ElementTree\n",
        "from numpy import zeros\n",
        "from numpy import asarray\n",
        "from mrcnn.utils import Dataset\n",
        "from mrcnn.visualize import display_instances\n",
        "from mrcnn.utils import extract_bboxes\n",
        "from mrcnn.config import Config\n",
        "import mrcnn.model as modellib\n",
        "\n",
        "# define the prediction configuration\n",
        "class PredictionConfig(Config):\n",
        "\t# define the name of the configuration\n",
        "\tNAME = object_type+\"_cfg\" \n",
        "\t# number of classes (background + class (charcoal hearth))\n",
        "\tNUM_CLASSES = 1 + 1\n",
        "\t# simplify GPU config\n",
        "\tGPU_COUNT = 1\n",
        "\tIMAGES_PER_GPU = 1\n",
        "\n",
        "# create config\n",
        "cfg = PredictionConfig()\n",
        "# define the model\n",
        "\n",
        "model = modellib.MaskRCNN(mode='inference', model_dir='/content/drive/MyDrive/MaskCNNhearths/code_and_working_data/charcoal_hearth_hill/model/', config=cfg)\n",
        "print(\"Model loaded.\")\n",
        "# load model weights\n",
        "model_path = '/content/drive/MyDrive/MaskCNNhearths/code_and_working_data/charcoal_hearth_hill/model/charcoal_hearth_hill_cfg20200826T2315/mask_rcnn_charcoal_hearth_hill_cfg_0016.h5'\n",
        "#model_path = '/home/student/charcoal_hearth_hill/model/'+object_type+'_'+cfg_name+'/mask_rcnn_'+object_type+'_cfg_'+model_epoch+'.h5'\n",
        "model.load_weights(model_path, by_name=True)\n",
        "\n",
        "image_prediction_folder = '/content/drive/MyDrive/crane_maryland/predictions/project_2021_nov_14/'+cfg_name+'/'\n",
        "\n",
        "image_for_prediction_folder = images_dir\n",
        "\n",
        "if not os.path.exists(image_prediction_folder):\n",
        "    os.mkdir(image_prediction_folder)\n",
        "image_prediction_folder = image_prediction_folder+'/unknown/'\n",
        "if not os.path.exists(image_prediction_folder):\n",
        "    os.mkdir(image_prediction_folder)\n",
        "    \n",
        "    \n",
        "#Store the results in XML    \n",
        "class_names = [object_type,object_type,]\n",
        "\n",
        "\n",
        "# find all images\n",
        "file_counter = 0\n",
        "for filename in listdir(images_dir):\n",
        "    # extract image id\n",
        "    image_id = filename[:-4]\n",
        "    ext = filename[-4:]\n",
        "    if(ext ==\".jpg\"):\n",
        "        print(file_counter)  \n",
        "        img_path = os.path.join(images_dir, filename)\n",
        "        #ann_path = annotations_dir + image_id + '.xml'\n",
        "        #print(image_id,img_path,ann_path)\n",
        "        print(image_id,img_path)\n",
        "    \n",
        "        image = cv2.imread(img_path)\n",
        "        #image = skimage.io.imread(os.path.join(image_for_prediction_folder, test_file_names[cn]))\n",
        "        #print(\"shape:\", image.shape)\n",
        "        # Run detection\n",
        "\n",
        "        results = model.detect([image], verbose=1)\n",
        "        # Visualize results\n",
        "        r = results[0]\n",
        "        #print(r['rois'], class_names, r['scores'])\n",
        "        #print(r['rois'][1],r['rois'][1][0],r['rois'][1][1],r['rois'][1][2],r['rois'][1][3])\n",
        "        #image2= display_instances(image, r['rois'], r['masks'], r['class_ids'], \n",
        "        #class_names, r['scores'])\n",
        "        obj_f_num = image_id\n",
        "        refPts = []\n",
        "    \n",
        "        for rcn in range(0,len(r['rois'])):\n",
        "            refPt = []\n",
        "            refPtM = []\n",
        "            refPtM.append(r['rois'][rcn][1])\n",
        "            refPtM.append(r['rois'][rcn][0])\n",
        "            refPt.append(refPtM)\n",
        "            refPtM = []\n",
        "            refPtM.append(r['rois'][rcn][3])\n",
        "            refPtM.append(r['rois'][rcn][2])\n",
        "            refPt.append(refPtM)\n",
        "            refPts.append(refPt)\n",
        "            #print(refPts)\n",
        "        write_annot(class_names[0], image_prediction_folder, obj_f_num, filename, image_for_prediction_folder,image.shape[1],image.shape[0],image.shape[2], refPts,r['scores'])\n",
        "        file_counter = file_counter + 1\n",
        "print(\"The results are in: \"+image_prediction_folder)"
      ],
      "execution_count": null,
      "outputs": []
    },
    {
      "cell_type": "code",
      "metadata": {
        "colab": {
          "base_uri": "https://localhost:8080/",
          "height": 408
        },
        "id": "YMv35wgB_iYJ",
        "outputId": "0f8463ce-be4b-41ea-db51-fc83231d95bf"
      },
      "source": [
        "        image = cv2.imread('/content/drive/MyDrive/crane_maryland/predictions/project_2021_nov_13/slope_tifs/slope_20120203_17SQD1896_utm.tif')\n",
        "        #image = skimage.io.imread(os.path.join(image_for_prediction_folder, test_file_names[cn]))\n",
        "        #print(\"shape:\", image.shape)\n",
        "        # Run detection\n",
        "        print(image)\n",
        "\n",
        "        results = model.detect([image], verbose=1)"
      ],
      "execution_count": null,
      "outputs": [
        {
          "output_type": "stream",
          "name": "stdout",
          "text": [
            "None\n",
            "Processing 1 images\n",
            "image\n"
          ]
        },
        {
          "output_type": "error",
          "ename": "AttributeError",
          "evalue": "ignored",
          "traceback": [
            "\u001b[0;31m---------------------------------------------------------------------------\u001b[0m",
            "\u001b[0;31mAttributeError\u001b[0m                            Traceback (most recent call last)",
            "\u001b[0;32m<ipython-input-13-4df72c7d0c93>\u001b[0m in \u001b[0;36m<module>\u001b[0;34m()\u001b[0m\n\u001b[1;32m      5\u001b[0m \u001b[0mprint\u001b[0m\u001b[0;34m(\u001b[0m\u001b[0mimage\u001b[0m\u001b[0;34m)\u001b[0m\u001b[0;34m\u001b[0m\u001b[0;34m\u001b[0m\u001b[0m\n\u001b[1;32m      6\u001b[0m \u001b[0;34m\u001b[0m\u001b[0m\n\u001b[0;32m----> 7\u001b[0;31m \u001b[0mresults\u001b[0m \u001b[0;34m=\u001b[0m \u001b[0mmodel\u001b[0m\u001b[0;34m.\u001b[0m\u001b[0mdetect\u001b[0m\u001b[0;34m(\u001b[0m\u001b[0;34m[\u001b[0m\u001b[0mimage\u001b[0m\u001b[0;34m]\u001b[0m\u001b[0;34m,\u001b[0m \u001b[0mverbose\u001b[0m\u001b[0;34m=\u001b[0m\u001b[0;36m1\u001b[0m\u001b[0;34m)\u001b[0m\u001b[0;34m\u001b[0m\u001b[0;34m\u001b[0m\u001b[0m\n\u001b[0m",
            "\u001b[0;32m/content/drive/MyDrive/crane_maryland/mask-rcnn-repository/Mask_RCNN/mrcnn/model.py\u001b[0m in \u001b[0;36mdetect\u001b[0;34m(self, images, verbose)\u001b[0m\n\u001b[1;32m   2501\u001b[0m \u001b[0;34m\u001b[0m\u001b[0m\n\u001b[1;32m   2502\u001b[0m         \u001b[0;31m# Mold inputs to format expected by the neural network\u001b[0m\u001b[0;34m\u001b[0m\u001b[0;34m\u001b[0m\u001b[0;34m\u001b[0m\u001b[0m\n\u001b[0;32m-> 2503\u001b[0;31m         \u001b[0mmolded_images\u001b[0m\u001b[0;34m,\u001b[0m \u001b[0mimage_metas\u001b[0m\u001b[0;34m,\u001b[0m \u001b[0mwindows\u001b[0m \u001b[0;34m=\u001b[0m \u001b[0mself\u001b[0m\u001b[0;34m.\u001b[0m\u001b[0mmold_inputs\u001b[0m\u001b[0;34m(\u001b[0m\u001b[0mimages\u001b[0m\u001b[0;34m)\u001b[0m\u001b[0;34m\u001b[0m\u001b[0;34m\u001b[0m\u001b[0m\n\u001b[0m\u001b[1;32m   2504\u001b[0m \u001b[0;34m\u001b[0m\u001b[0m\n\u001b[1;32m   2505\u001b[0m         \u001b[0;31m# Validate image sizes\u001b[0m\u001b[0;34m\u001b[0m\u001b[0;34m\u001b[0m\u001b[0;34m\u001b[0m\u001b[0m\n",
            "\u001b[0;32m/content/drive/MyDrive/crane_maryland/mask-rcnn-repository/Mask_RCNN/mrcnn/model.py\u001b[0m in \u001b[0;36mmold_inputs\u001b[0;34m(self, images)\u001b[0m\n\u001b[1;32m   2399\u001b[0m                 \u001b[0mmin_scale\u001b[0m\u001b[0;34m=\u001b[0m\u001b[0mself\u001b[0m\u001b[0;34m.\u001b[0m\u001b[0mconfig\u001b[0m\u001b[0;34m.\u001b[0m\u001b[0mIMAGE_MIN_SCALE\u001b[0m\u001b[0;34m,\u001b[0m\u001b[0;34m\u001b[0m\u001b[0;34m\u001b[0m\u001b[0m\n\u001b[1;32m   2400\u001b[0m                 \u001b[0mmax_dim\u001b[0m\u001b[0;34m=\u001b[0m\u001b[0mself\u001b[0m\u001b[0;34m.\u001b[0m\u001b[0mconfig\u001b[0m\u001b[0;34m.\u001b[0m\u001b[0mIMAGE_MAX_DIM\u001b[0m\u001b[0;34m,\u001b[0m\u001b[0;34m\u001b[0m\u001b[0;34m\u001b[0m\u001b[0m\n\u001b[0;32m-> 2401\u001b[0;31m                 mode=self.config.IMAGE_RESIZE_MODE)\n\u001b[0m\u001b[1;32m   2402\u001b[0m             \u001b[0mmolded_image\u001b[0m \u001b[0;34m=\u001b[0m \u001b[0mmold_image\u001b[0m\u001b[0;34m(\u001b[0m\u001b[0mmolded_image\u001b[0m\u001b[0;34m,\u001b[0m \u001b[0mself\u001b[0m\u001b[0;34m.\u001b[0m\u001b[0mconfig\u001b[0m\u001b[0;34m)\u001b[0m\u001b[0;34m\u001b[0m\u001b[0;34m\u001b[0m\u001b[0m\n\u001b[1;32m   2403\u001b[0m             \u001b[0;31m# Build image_meta\u001b[0m\u001b[0;34m\u001b[0m\u001b[0;34m\u001b[0m\u001b[0;34m\u001b[0m\u001b[0m\n",
            "\u001b[0;32m/content/drive/MyDrive/crane_maryland/mask-rcnn-repository/Mask_RCNN/mrcnn/utils.py\u001b[0m in \u001b[0;36mresize_image\u001b[0;34m(image, min_dim, max_dim, min_scale, mode)\u001b[0m\n\u001b[1;32m    419\u001b[0m     \"\"\"\n\u001b[1;32m    420\u001b[0m     \u001b[0;31m# Keep track of image dtype and return results in the same dtype\u001b[0m\u001b[0;34m\u001b[0m\u001b[0;34m\u001b[0m\u001b[0;34m\u001b[0m\u001b[0m\n\u001b[0;32m--> 421\u001b[0;31m     \u001b[0mimage_dtype\u001b[0m \u001b[0;34m=\u001b[0m \u001b[0mimage\u001b[0m\u001b[0;34m.\u001b[0m\u001b[0mdtype\u001b[0m\u001b[0;34m\u001b[0m\u001b[0;34m\u001b[0m\u001b[0m\n\u001b[0m\u001b[1;32m    422\u001b[0m     \u001b[0;31m# Default window (y1, x1, y2, x2) and default scale == 1.\u001b[0m\u001b[0;34m\u001b[0m\u001b[0;34m\u001b[0m\u001b[0;34m\u001b[0m\u001b[0m\n\u001b[1;32m    423\u001b[0m     \u001b[0mh\u001b[0m\u001b[0;34m,\u001b[0m \u001b[0mw\u001b[0m \u001b[0;34m=\u001b[0m \u001b[0mimage\u001b[0m\u001b[0;34m.\u001b[0m\u001b[0mshape\u001b[0m\u001b[0;34m[\u001b[0m\u001b[0;34m:\u001b[0m\u001b[0;36m2\u001b[0m\u001b[0;34m]\u001b[0m\u001b[0;34m\u001b[0m\u001b[0;34m\u001b[0m\u001b[0m\n",
            "\u001b[0;31mAttributeError\u001b[0m: 'NoneType' object has no attribute 'dtype'"
          ]
        }
      ]
    },
    {
      "cell_type": "code",
      "metadata": {
        "id": "aytAZVFHi8z3"
      },
      "source": [
        "import os\n",
        "from os import listdir\n",
        "import cv2\n",
        "import skimage\n",
        "from xml.etree import ElementTree\n",
        "from numpy import zeros\n",
        "from numpy import asarray\n",
        "from google.colab.patches import cv2_imshow\n",
        "from matplotlib import pyplot\n",
        "from matplotlib.pyplot import figure\n",
        "\n",
        "#coordinate = \"0106\"\n",
        "#training_image = '/content/drive/MyDrive/crane_ane/data/images/jpgs/401'+coordinate +'.jpg'\n",
        "#prediction_annot_file_path = '/content/drive/MyDrive/MaskCNNhearths/code_and_working_data/charcoal_hearth_hill/predictions/cfg20200826T2315/unknown/401'+coordinate +'.xml'\n",
        "\n",
        "prediction_image_folder = '/content/drive/MyDrive/crane_maryland/tif/tif_tiles/jpgs/'\n",
        "prediction_annot_folder = '/content/drive/MyDrive/crane_maryland/predictions/cfg20200826T2315/unknown'\n",
        "\n",
        "training_annot_file_path = \"\"\n",
        "\n",
        "font = cv2.FONT_HERSHEY_SIMPLEX \n",
        "font_scale = 1\n",
        "font_color = (0, 200, 0) \n",
        "font_thickness = 2\n",
        "\n",
        "for prediction_image in listdir(prediction_image_folder):\n",
        "    print(prediction_image)\n",
        "    annotation_file = prediction_image[:-4]+\".xml\"\n",
        "    image = cv2.imread(os.path.join(prediction_image_folder,prediction_image))\n",
        "    print(image.shape)\n",
        "    prediction_annot_file_path = os.path.join(prediction_annot_folder,annotation_file)\n",
        "\n",
        "    overlay = image.copy()\n",
        "    output = image.copy()\n",
        "    #cv2_imshow(output)    \n",
        "    font_color = (255, 0, 255)\n",
        "    font_scale = .6\n",
        "    font_thickness = 1\n",
        "\n",
        "    print(prediction_annot_file_path)\n",
        "    if(os.path.exists(prediction_annot_file_path)):\n",
        "        tree_train = ElementTree.parse(prediction_annot_file_path)\n",
        "        root_train = tree_train.getroot()\n",
        "        for obj in root_train.findall('./object'):\n",
        "            box = obj.find('bndbox')\n",
        "            xmin = int(box.find('xmin').text)\n",
        "            ymin = int(box.find('ymin').text)\n",
        "            xmax = int(box.find('xmax').text)\n",
        "            ymax = int(box.find('ymax').text)\n",
        "            box_num = str(obj.find('number').text)\n",
        "            score = float(obj.find('score').text)\n",
        "            if(ymin>ymax):\n",
        "                ytemp = ymin\n",
        "                ymin = ymax\n",
        "                ymax=ytemp\n",
        "            if(xmin>xmax):\n",
        "                xtemp = xmin\n",
        "                xmin = xmax\n",
        "                xmax=xtemp            \n",
        "            coors = [xmin, ymin, xmax, ymax]\n",
        "            crop_output = output[ymin:ymax, xmin:xmax]\n",
        "        \n",
        "            cv2.rectangle(output, (xmin, ymin), (xmax, ymax),(255, 0, 255), 2)\n",
        "            cv2.putText(output, f'{score:.3f}' , (xmin+0, ymin-17), font, font_scale, font_color, font_thickness, cv2.LINE_AA)\n",
        "        print(root_train.findall('./object'))\n",
        "        objs = root_train.findall('./object')\n",
        "        if(len(objs)>0):\n",
        "            cv2_imshow(output)\n",
        "    else:\n",
        "        print(\"No prediction annotation file for this image.  This is likely ok.\")\n",
        "\n",
        "\n",
        "\n",
        "\n",
        "#crop_output = output[ymin:ymax, xmin:xmax]\n",
        "#resized = cv2.resize(output, (64, 30))"
      ],
      "execution_count": null,
      "outputs": []
    }
  ]
}