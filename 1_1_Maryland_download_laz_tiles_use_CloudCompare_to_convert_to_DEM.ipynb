{
 "cells": [
  {
   "cell_type": "markdown",
   "metadata": {},
   "source": [
    "# Convert Laz to DEM using CloudCompare\n",
    "\n",
    "This is done in three steps:\n",
    "\n",
    "## 1. Create working directories\n",
    "4 batches of 50 laz files (ex: 0-49, 50-99, 100-149, 150-199) will be downloaed into a folder that can contain 200 files (ex: laz_utm_0-199).\n",
    "\n",
    "Create folders to hold downladed files. Example: E:\\a_new_orgs\\carleton\\hist5706-maryland\\lidar_files\\reprojected\\laz_utm_0-199. This can be done by running the first cell of 1_1_Maryland_download_laz_tiles_use_CloudCompare_to_convert_to_DEM\n",
    "\n",
    "## 2. Download the files\n",
    "\n",
    "Download the files from Google Drive, unzip into directory. Example: /content/drive/MyDrive/crane_maryland/laz/laz_fema_2012_forested_utm/batch_50/laz_utm_0-49\n",
    "\n",
    "\n"
   ]
  },
  {
   "cell_type": "code",
   "execution_count": 7,
   "metadata": {},
   "outputs": [
    {
     "name": "stdout",
     "output_type": "stream",
     "text": [
      "E:\\a_new_orgs\\carleton\\hist5706-maryland\\lidar_files\\reprojected\\laz_utm_0-199\n",
      "Exists.\n",
      "E:\\a_new_orgs\\carleton\\hist5706-maryland\\lidar_files\\reprojected\\laz_utm_200-399\n",
      "Exists.\n",
      "E:\\a_new_orgs\\carleton\\hist5706-maryland\\lidar_files\\reprojected\\laz_utm_400-599\n",
      "Exists.\n",
      "E:\\a_new_orgs\\carleton\\hist5706-maryland\\lidar_files\\reprojected\\laz_utm_600-799\n",
      "Exists.\n",
      "E:\\a_new_orgs\\carleton\\hist5706-maryland\\lidar_files\\reprojected\\laz_utm_800-999\n",
      "Exists.\n",
      "E:\\a_new_orgs\\carleton\\hist5706-maryland\\lidar_files\\reprojected\\laz_utm_1000-1199\n",
      "Exists.\n",
      "E:\\a_new_orgs\\carleton\\hist5706-maryland\\lidar_files\\reprojected\\laz_utm_1200-1399\n",
      "Exists.\n",
      "E:\\a_new_orgs\\carleton\\hist5706-maryland\\lidar_files\\reprojected\\laz_utm_1400-1599\n",
      "Exists.\n",
      "E:\\a_new_orgs\\carleton\\hist5706-maryland\\lidar_files\\reprojected\\laz_utm_1600-1799\n",
      "Exists.\n",
      "E:\\a_new_orgs\\carleton\\hist5706-maryland\\lidar_files\\reprojected\\laz_utm_1800-1999\n",
      "Exists.\n",
      "E:\\a_new_orgs\\carleton\\hist5706-maryland\\lidar_files\\reprojected\\laz_utm_2000-2199\n",
      "Exists.\n"
     ]
    }
   ],
   "source": [
    "# 1. Create working directories\n",
    "# Run this only once\n",
    "# set up working directories to hold downloaded files\n",
    "import os\n",
    "input_laz_utm_fp_base = \"E:\\\\a_new_orgs\\\\carleton\\\\hist5706-maryland\\\\lidar_files\\\\reprojected\\\\\"\n",
    "\n",
    "chunk_amount = 200\n",
    "total_files = 2154\n",
    "\n",
    "for count in range(0, total_files , 200):\n",
    "\n",
    "    new_dir_file_path = os.path.join(input_laz_utm_fp_base, (\"laz_utm_\"+str(count)+\"-\"+str(count+chunk_amount-1)))\n",
    "    print(new_dir_file_path)\n",
    "    if not (os.path.exists(new_dir_file_path)):  \n",
    "        print(\"Does not exist.\")\n",
    "        os.mkdir(new_dir_file_path)\n",
    "    else:\n",
    "        print(\"Exists.\")"
   ]
  },
  {
   "cell_type": "markdown",
   "metadata": {},
   "source": [
    "## 2. Download the files\n",
    "\n",
    "Manual download\n",
    "\n",
    "## 3. Convert Laz to Raster with CloudCompare\n",
    "\n",
    "+ update the directory structure\n",
    "+ Run the process below to perform a batch conversion"
   ]
  },
  {
   "cell_type": "code",
   "execution_count": null,
   "metadata": {},
   "outputs": [],
   "source": [
    "# E:\\Program Files\\CloudCompare>cloudcompare -O \n",
    "#'E:/a_new_orgs/carleton/hist5706-maryland/lidar_files/reprojected/20120323_001415_r_utm.laz' \n",
    "#-SET_ACTIVE_SF 6 -FILTER_SF 1.1 2.1 -RASTERIZE -GRID_STEP 1\n",
    "\n",
    "import subprocess\n",
    "import time\n",
    "\n",
    "# example command\n",
    "# C:\\LAStools\\bin\\las2las -i \"E:\\a_new_orgs\\carleton\\hist5706-maryland\\lidar_files\\20120323_001460.laz\" -target_utm 18north -o \"E:\\a_new_orgs\\carleton\\hist5706-maryland\\lidar_files\\reprojected\\20120323_001460_r_utm.laz\"\n",
    "\n",
    "input_laz_utm_fp = \"E:\\\\a_new_orgs\\\\carleton\\\\hist5706-maryland\\\\lidar_files\\\\reprojected\\\\laz_utm_0-199\\\\\"\n",
    "#output_raster_fp = \"E:\\\\a_new_orgs\\\\carleton\\\\hist5706-maryland\\\\lidar_files\\\\rasters\\\\\"\n",
    "\n",
    "\n",
    "import os\n",
    "#process .laz files one at a time\n",
    "for root, dirs, files in os.walk(input_laz_utm_fp, topdown=False):\n",
    "   for name in files:      \n",
    "      #print(name)\n",
    "      name_ext = name[-4:].lower()\n",
    "      if(name_ext==\".laz\"):\n",
    "          laz_in_path = os.path.join(input_laz_utm_fp, name)\n",
    "          #raster_out_path = os.path.join(output_raster_fp, (name[:-4]+\".tif\"))\n",
    "          command = '\"E:\\Program Files\\CloudCompare\\cloudcompare\" -SILENT -O ' + laz_in_path + \" -SET_ACTIVE_SF 8 -FILTER_SF 1.1 2.1 -RASTERIZE -GRID_STEP 1 -EMPTY_FILL INTERP -OUTPUT_RASTER_Z \"\n",
    "          print(\"!\"+command)\n",
    "          subprocess.call(command, shell=True)\n",
    "          # just in case, let the sub process run\n",
    "          time.sleep(4)\n",
    "        \n",
    "\n",
    "\"\"\"\n",
    "Rasterizes the loaded clouds by projecting them inside a regular grid.\n",
    "Optional settings are:\n",
    "\n",
    "-VERT_DIR {0/1/2} to specify the projection dimension (0=X / 1=Y / 2=Z) - default is 2 (Z)\n",
    "-PROJ {MIN/AVG/MAX} to specify how the altitude of each cell is computed (minimum, average or maximum altitude of the projected points). Default is AVG (average)\n",
    "-SF_PROJ {MIN/AVG/MAX} to specify how the SF value(s) of each cell are computed (minimum, average or maximum altitude of the projected points SF value(s)). Default is AVG (average)\n",
    "-EMPTY_FILL {MIN_H/MAX_H/CUSTOM_H/INTERP} to specify how empty cells should be filled (MIN_H = min height / MAX_H = max height / CUSTOM_H = custom value - see CUSTOM_HEIGHT option below / INTERP = interpolate). Default behavior is 'leave cells empty'\n",
    "-CUSTOM_HEIGHT {value} to define the custom height filling value (if the 'CUSTOM_H' strategy is used (see above)\n",
    "-OUTPUT_CLOUD to output the result as a cloud (this is the default option if no other output format is defined)\n",
    "-OUTPUT_MESH to output the result as a mesh\n",
    "-OUTPUT_RASTER_Z to output the result as a geotiff raster (only altitudes, no RGB)\n",
    "-OUTPUT_RASTER_Z_AND_SF to output the result as a geotiff raster (altitudes + all SFs by default, no RGB)\n",
    "-OUTPUT_RASTER_RGB to output the result as a geotiff raster (RGB)        \n",
    "\"\"\""
   ]
  },
  {
   "cell_type": "code",
   "execution_count": 11,
   "metadata": {},
   "outputs": [
    {
     "name": "stderr",
     "output_type": "stream",
     "text": [
      "'e:\\\\Program' is not recognized as an internal or external command,\n",
      "operable program or batch file.\n"
     ]
    }
   ],
   "source": [
    "!\"e:\\Program Files\\CloudCompare\\cloudcompare\" -O E:\\a_new_orgs\\carleton\\\\hist5706-maryland\\\\lidar_files\\\\reprojected\\\\20120203_17SPD7586_utm.laz-SET_ACTIVE_SF 6 -FILTER_SF 1.1 2.1 -RASTERIZE -GRID_STEP 1 -EMPTY_FILL INTERP -OUTPUT_RASTER_Z E:\\\\a_new_orgs\\\\carleton\\\\hist5706-maryland\\\\lidar_files\\\\rasters\\\\20120203_17SPD7586_utm.tif"
   ]
  },
  {
   "cell_type": "markdown",
   "metadata": {},
   "source": [
    "# Move tifs"
   ]
  },
  {
   "cell_type": "code",
   "execution_count": null,
   "metadata": {},
   "outputs": [],
   "source": [
    "import os\n",
    "import shutil\n",
    "# Divide files into groups of 200 so they can be downloaded and processed in managably sized chunks.\n",
    "file_counter = 0\n",
    "\n",
    "dem_tif_fp = \"E:\\\\a_new_orgs\\\\carleton\\\\hist5706-maryland\\\\lidar_files\\\\reprojected\\\\laz_utm_0-49\\\\\"\n",
    "dem_tif_fp_dest = \"E:\\\\a_new_orgs\\\\carleton\\\\hist5706-maryland\\\\lidar_files\\\\reprojected\\\\laz_utm_0-49\\\\dem_tifs\\\\\"\n",
    "\n",
    "for file_name in os.listdir(dem_tif_fp):\n",
    "    origin_file_path = os.path.join(dem_tif_fp,file_name)\n",
    "    print(origin_file_path)\n",
    "    if(os.path.isfile(origin_file_path)):  \n",
    "        if(origin_file_path[-4:]==\".tif\"):\n",
    "            shutil.copy(origin_file_path, os.path.join(dem_tif_fp_dest,(file_name[:22]+\".tif\")))\n",
    "            print(file_counter, origin_file_path)\n",
    "            file_counter = file_counter + 1        "
   ]
  },
  {
   "cell_type": "code",
   "execution_count": 5,
   "metadata": {},
   "outputs": [
    {
     "name": "stdout",
     "output_type": "stream",
     "text": [
      "20120203_17SQD2798_utm\n"
     ]
    }
   ],
   "source": [
    "fn = \"20120203_17SQD2798_utm_FILTERED_[1.1_2.1]_RASTER_Z_2021-11-08_18h04_32_409.tif\"\n",
    "print(fn[:22])"
   ]
  },
  {
   "cell_type": "markdown",
   "metadata": {},
   "source": [
    "# Set crs of raster - Not yet working - Ignore below"
   ]
  },
  {
   "cell_type": "code",
   "execution_count": 19,
   "metadata": {},
   "outputs": [
    {
     "ename": "ModuleNotFoundError",
     "evalue": "No module named 'rasterio'",
     "output_type": "error",
     "traceback": [
      "\u001b[1;31m---------------------------------------------------------------------------\u001b[0m",
      "\u001b[1;31mModuleNotFoundError\u001b[0m                       Traceback (most recent call last)",
      "\u001b[1;32m<ipython-input-19-f06960f2ca3a>\u001b[0m in \u001b[0;36m<module>\u001b[1;34m()\u001b[0m\n\u001b[0;32m      1\u001b[0m \u001b[1;32mimport\u001b[0m \u001b[0msubprocess\u001b[0m\u001b[1;33m\u001b[0m\u001b[1;33m\u001b[0m\u001b[0m\n\u001b[0;32m      2\u001b[0m \u001b[1;32mimport\u001b[0m \u001b[0mtime\u001b[0m\u001b[1;33m\u001b[0m\u001b[1;33m\u001b[0m\u001b[0m\n\u001b[1;32m----> 3\u001b[1;33m \u001b[1;32mimport\u001b[0m \u001b[0mrasterio\u001b[0m\u001b[1;33m\u001b[0m\u001b[1;33m\u001b[0m\u001b[0m\n\u001b[0m\u001b[0;32m      4\u001b[0m \u001b[1;33m\u001b[0m\u001b[0m\n\u001b[0;32m      5\u001b[0m \u001b[1;31m# example command\u001b[0m\u001b[1;33m\u001b[0m\u001b[1;33m\u001b[0m\u001b[1;33m\u001b[0m\u001b[0m\n",
      "\u001b[1;31mModuleNotFoundError\u001b[0m: No module named 'rasterio'"
     ]
    }
   ],
   "source": [
    "import subprocess\n",
    "import time\n",
    "import rasterio\n",
    "\n",
    "# example command\n",
    "# C:\\LAStools\\bin\\las2las -i \"E:\\a_new_orgs\\carleton\\hist5706-maryland\\lidar_files\\20120323_001460.laz\" -target_utm 18north -o \"E:\\a_new_orgs\\carleton\\hist5706-maryland\\lidar_files\\reprojected\\20120323_001460_r_utm.laz\"\n",
    "\n",
    "\n",
    "input_raster_fp = \"E:\\\\a_new_orgs\\\\carleton\\\\hist5706-maryland\\\\lidar_files\\\\reprojected\\\\\"\n",
    "output_raster_fp = \"E:\\\\a_new_orgs\\\\carleton\\\\hist5706-maryland\\\\lidar_files\\\\rasters\\\\\"\n",
    "\n",
    "\n",
    "# Set crs\n",
    "import os\n",
    "#process .tif files one at a time\n",
    "for root, dirs, files in os.walk(input_raster_fp, topdown=False):\n",
    "   for name in files:      \n",
    "      #print(name)\n",
    "      name_ext = name[-4:].lower()\n",
    "      if(name_ext==\".tif\"):\n",
    "          tif_out_path = os.path.join(input_raster_fp, name)\n",
    "          tif_in_path = os.path.join(output_raster_fp, (name[:19]+\"26918\"+name_ext))\n",
    "          with rasterio.open(tif_in_path, \"w\", crs='EPSG:26918') as dest:\n",
    "              dest.write(out_image)         \n",
    "          #command = 'gdal_edit.bat -a_srs EPSG:26985 \"' + tif_in_path + '\"'\n",
    "                    \n",
    "          #print(\"!\"+command)\n",
    "          #subprocess.call(command, shell=True)\n",
    "          # just in case, let the sub process run\n",
    "          time.sleep(4)            "
   ]
  },
  {
   "cell_type": "code",
   "execution_count": 20,
   "metadata": {},
   "outputs": [
    {
     "name": "stderr",
     "output_type": "stream",
     "text": [
      "'gdal_edit.bat' is not recognized as an internal or external command,\n",
      "operable program or batch file.\n"
     ]
    }
   ],
   "source": [
    "!gdal_edit.bat -a_srs EPSG:26985 \"E:\\a_new_orgs\\carleton\\hist5706-maryland\\lidar_files\\reprojected\\20120203_17SPD7277_utm_FILTERED_[1.1_2.1]_RASTER_Z_2021-10-30_16h50_37_125.tif\""
   ]
  },
  {
   "cell_type": "markdown",
   "metadata": {},
   "source": [
    "# Make slope file - Not yet working"
   ]
  },
  {
   "cell_type": "code",
   "execution_count": 16,
   "metadata": {},
   "outputs": [
    {
     "name": "stdout",
     "output_type": "stream",
     "text": [
      "!\"E:\\Program Files\\QGIS 3.10\\bin\\gdaldem\" slope \"E:\\a_new_orgs\\carleton\\hist5706-maryland\\lidar_files\\reprojected\\20120203_17SPD7277_utm_FILTERED_[1.1_2.1]_RASTER_Z_2021-10-30_16h50_37_125.tif\" \"E:\\a_new_orgs\\carleton\\hist5706-maryland\\lidar_files\\slope\\20120203_17SPD7277_utm_FILTERED_[1.1_2.1]_RASTER_Z_2021-10-30_16h50_37_125_slope.tif\" -of GTiff -b 1 -s 1.0\n"
     ]
    }
   ],
   "source": [
    "import subprocess\n",
    "import time\n",
    "\n",
    "# example command\n",
    "# gdaldem slope E:\\a_new_orgs\\carleton\\hist5706-maryland\\lidar_files\\reprojected\\20120203_17SPD7277_utm_FILTERED_[1.1_2.1]_RASTER_Z_2021-10-30_16h50_37_125.tif \n",
    "# C:/Users/User/AppData/Local/Temp/processing_QIEzpg/6c1743fc49544eba9ae8c25d891f86e8/OUTPUT.tif\n",
    "# -of GTiff -b 1 -s 1.0\n",
    "\n",
    "\n",
    "input_raster_fp = \"E:\\\\a_new_orgs\\\\carleton\\\\hist5706-maryland\\\\lidar_files\\\\reprojected\\\\\"\n",
    "output_slope_fp = \"E:\\\\a_new_orgs\\\\carleton\\\\hist5706-maryland\\\\lidar_files\\\\slope\\\\\"\n",
    "\n",
    "\n",
    "# Set crs\n",
    "import os\n",
    "#process .tif files one at a time\n",
    "for root, dirs, files in os.walk(input_raster_fp, topdown=False):\n",
    "   for name in files:      \n",
    "      #print(name)\n",
    "      name_ext = name[-4:].lower()\n",
    "      if(name_ext==\".tif\"):\n",
    "          tif_in_path = os.path.join(input_raster_fp, name)\n",
    "          slope_out_path = os.path.join(output_slope_fp, (name[:-4]+\"_slope\"+name_ext))\n",
    "        \n",
    "          #command = '\"C:\\\\Program Files\\\\QGIS 3.16\\\\bin\\\\gdaldem.exe\" slope \"' + tif_in_path + '\" \"' + slope_out_path + \" -of GTiff -b 1 -s 1.0\"\n",
    "          command = '\"E:\\\\Program Files\\\\QGIS 3.10\\\\bin\\\\gdaldem\" slope \"' + tif_in_path + '\" \"' + slope_out_path + '\" -of GTiff -b 1 -s 1.0'\n",
    "            \n",
    "            \n",
    "                    \n",
    "          print(\"!\"+command)\n",
    "          subprocess.call(command, shell=True)\n",
    "          # just in case, let the sub process run\n",
    "          time.sleep(4)  "
   ]
  },
  {
   "cell_type": "code",
   "execution_count": 11,
   "metadata": {},
   "outputs": [
    {
     "name": "stdout",
     "output_type": "stream",
     "text": [
      "0...10...20...30...40...50...60...70...80...90...100 - done.\n"
     ]
    }
   ],
   "source": [
    "!\"E:\\\\Program Files\\\\QGIS 3.10\\\\bin\\\\gdaldem\" slope \"E:\\\\a_new_orgs\\\\carleton\\\\hist5706-maryland\\\\lidar_files\\\\reprojected\\\\20120203_17SPD7277_utm_FILTERED_[1.1_2.1]_RASTER_Z_2021-10-30_16h50_37_125.tif\" \"E:\\\\a_new_orgs\\\\carleton\\\\hist5706-maryland\\\\lidar_files\\\\slope\\\\20120203_17SPD7277_utm_FILTERED_[1.1_2.1]_RASTER_Z_2021-10-30_16h50_37_125_slope.tif\" -of GTiff -b 1 -s 1.0\n"
   ]
  },
  {
   "cell_type": "code",
   "execution_count": 15,
   "metadata": {},
   "outputs": [
    {
     "name": "stdout",
     "output_type": "stream",
     "text": [
      "0...10...20...30...40...50...60...70...80...90...100 - done.\n"
     ]
    }
   ],
   "source": [
    "!\"E:\\\\Program Files\\\\QGIS 3.10\\\\bin\\\\gdaldem\" slope \"E:\\\\a_new_orgs\\\\carleton\\\\hist5706-maryland\\\\lidar_files\\\\reprojected\\\\20120203_17SPD7277_utm_FILTERED_[1.1_2.1]_RASTER_Z_2021-10-30_16h50_37_125.tif\" \"E:\\\\a_new_orgs\\\\carleton\\\\hist5706-maryland\\\\lidar_files\\\\slope\\\\20120203_17SPD7277_utm_FILTERED_[1.1_2.1]_RASTER_Z_2021-10-30_16h50_37_125_slope.tif\" -of GTiff -b 1 -s 1.0"
   ]
  },
  {
   "cell_type": "code",
   "execution_count": 1,
   "metadata": {},
   "outputs": [
    {
     "ename": "ModuleNotFoundError",
     "evalue": "No module named 'geopandas'",
     "output_type": "error",
     "traceback": [
      "\u001b[1;31m---------------------------------------------------------------------------\u001b[0m",
      "\u001b[1;31mModuleNotFoundError\u001b[0m                       Traceback (most recent call last)",
      "\u001b[1;32m<ipython-input-1-06532cd3b389>\u001b[0m in \u001b[0;36m<module>\u001b[1;34m()\u001b[0m\n\u001b[0;32m      1\u001b[0m \u001b[1;32mimport\u001b[0m \u001b[0mos\u001b[0m\u001b[1;33m\u001b[0m\u001b[1;33m\u001b[0m\u001b[0m\n\u001b[1;32m----> 2\u001b[1;33m \u001b[1;32mimport\u001b[0m \u001b[0mgeopandas\u001b[0m \u001b[1;32mas\u001b[0m \u001b[0mgpd\u001b[0m\u001b[1;33m\u001b[0m\u001b[1;33m\u001b[0m\u001b[0m\n\u001b[0m\u001b[0;32m      3\u001b[0m \u001b[1;33m\u001b[0m\u001b[0m\n\u001b[0;32m      4\u001b[0m \u001b[0mlidar_tiles_forested_polys_fp\u001b[0m \u001b[1;33m=\u001b[0m \u001b[1;34m\"E:\\\\a_new_orgs\\\\carleton\\\\hist5706-maryland\\\\hist5706-maryland\\\\fema_forested\\\\2012_fema_md_forested.shp\"\u001b[0m\u001b[1;33m\u001b[0m\u001b[1;33m\u001b[0m\u001b[0m\n\u001b[0;32m      5\u001b[0m \u001b[1;33m\u001b[0m\u001b[0m\n",
      "\u001b[1;31mModuleNotFoundError\u001b[0m: No module named 'geopandas'"
     ]
    }
   ],
   "source": [
    "import os\n",
    "import geopandas as gpd\n",
    "\n",
    "lidar_tiles_forested_polys_fp = \"E:\\\\a_new_orgs\\\\carleton\\\\hist5706-maryland\\\\hist5706-maryland\\\\fema_forested\\\\2012_fema_md_forested.shp\"\n",
    "\n",
    "\"\"\"\n",
    "# Create an empty geopandas GeoDataFrame for duplicates\n",
    "lidar_tiles_forested_polys_df = gpd.GeoDataFrame()\n",
    "lidar_tiles_forested_polys_df['Index'] = None\n",
    "lidar_tiles_forested_polys_df['Name'] = None\n",
    "lidar_tiles_forested_polys_df['URL'] = None\n",
    "lidar_tiles_forested_polys_df['geometry'] = None\n",
    "\"\"\"\n",
    "\n",
    "lidar_tiles_forested_polys_df.crs = ('EPSG:26985')\n",
    "\n",
    "if os.path.exists(lidar_tiles_forested_polys_fp):\n",
    "    lidar_tiles_forested_polys = gpd.read_file(lidar_tiles_forested_polys_fp)\n",
    "    \n",
    "    print(\"crs\", lidar_tiles_forested_polys.crs)\n",
    "    print(type(lidar_tiles_forested_polys))\n",
    "\n",
    "    print(\"lidar_tiles_forested_polys\",lidar_tiles_forested_polys.shape)\n",
    "    # crs for Maryland\n",
    "    area_crs = 26985\n",
    "    land_use_polys.to_crs(area_crs)\n",
    "\n",
    "    for index, row in lidar_tiles_forested_polys.iterrows():\n",
    "       #print(\"row\",row)\n",
    "\n",
    "       print(row[1],row[2],row[3])"
   ]
  },
  {
   "cell_type": "code",
   "execution_count": null,
   "metadata": {},
   "outputs": [],
   "source": []
  }
 ],
 "metadata": {
  "kernelspec": {
   "display_name": "Python 3",
   "language": "python",
   "name": "python3"
  },
  "language_info": {
   "codemirror_mode": {
    "name": "ipython",
    "version": 3
   },
   "file_extension": ".py",
   "mimetype": "text/x-python",
   "name": "python",
   "nbconvert_exporter": "python",
   "pygments_lexer": "ipython3",
   "version": "3.7.4"
  }
 },
 "nbformat": 4,
 "nbformat_minor": 2
}
